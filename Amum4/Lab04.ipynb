{
 "cells": [
  {
   "cell_type": "markdown",
   "id": "59b5dc28",
   "metadata": {},
   "source": [
    "# Algorytmika i matematyka uczenia maszynowego \n",
    "## Laboratorium 4\n",
    "\n",
    "Do wykonania laboratorium należy skorzystać z bibliotek:\n",
    "- [numpy](https://numpy.org/)\n",
    "- [matplotlib](https://matplotlib.org/)\n",
    "\n",
    "### Zadanie 1\n",
    "\n",
    "Dana jest następująca lista prostokątów:\n",
    "\n",
    "```\n",
    "rectangles = [(\"R1\", 5, 4.5), (\"Szeroki\", 11, 3), (\"R2\", 4, 6), (\"Wąski\", 3, 8), (\"Kwadrat 1\", 5, 5), (\"Kwadrat 2\", 4.5, 4.5)] \n",
    "```\n",
    "\n",
    "gdzie kolejne pola krotek to: \n",
    "- nazwa, \n",
    "- szerokość, \n",
    "- wysokość.\n",
    "\n",
    "#### A) \n",
    "Na jej bazie utwórz ustrukturalizowaną tablicę Numpy (`np.array(...)`), następnie posortuj dane prostokąty rosnąco po polu, a w przypadku równości niech decyduje (alfabetycznie) nazwa prostokąta.\n",
    "\n",
    "#### B) \n",
    "Wypisz posortowaną tablicę, w kolejności pól: \n",
    "1. szerokość, \n",
    "2. wysokość, \n",
    "3. nazwa.\n",
    "\n",
    "> Uwaga: Gdzie to możliwe, działaj na typach i funkcjach z biblioteki Numpy.\n",
    "\n"
   ]
  },
  {
   "cell_type": "code",
   "execution_count": 1,
   "id": "ef60e377",
   "metadata": {},
   "outputs": [],
   "source": [
    "import numpy as np\n",
    "def printarr(arr):\n",
    "    print(f'{\"Nazwa\":10}| {\"Szerokość\" :10}| {\"Wysokość\" :10}')\n",
    "    print('----------+-----------+----------')\n",
    "    for row in arr:\n",
    "        print(f'{row[0] :10}| {row[1] :^10}| {row[2] :<10}')\n"
   ]
  },
  {
   "cell_type": "code",
   "execution_count": 2,
   "id": "73eeb48f",
   "metadata": {},
   "outputs": [],
   "source": [
    "rectangles = [(\"R1\", 5, 4.5), (\"Szeroki\", 11, 3), (\"R2\", 4, 6), (\"Waski\", 3, 8), (\"Kwadrat 1\", 5, 5), (\"Kwadrat 2\", 4.5, 4.5)]\n",
    "\n",
    "rec_new = list()\n",
    "for i in rectangles:\n",
    "    field = i[1] * i[2]\n",
    "    i = i+(field,)\n",
    "    rec_new.append(i)\n",
    "\n",
    "\n",
    "dtypee = [('Nazwa', 'U32'), ('Szerokosc', float), ('Wysokosc', float), ('Pole', float)]\n",
    "\n",
    "lista = np.array(rec_new, dtype=dtypee)"
   ]
  },
  {
   "cell_type": "code",
   "execution_count": 3,
   "id": "1fdda01a",
   "metadata": {},
   "outputs": [
    {
     "name": "stdout",
     "output_type": "stream",
     "text": [
      "Posortowana po polu\n",
      "Nazwa     | Szerokość | Wysokość  \n",
      "----------+-----------+----------\n",
      "Kwadrat 2 |    4.5    | 4.5       \n",
      "R1        |    5.0    | 4.5       \n",
      "R2        |    4.0    | 6.0       \n",
      "Waski     |    3.0    | 8.0       \n",
      "Kwadrat 1 |    5.0    | 5.0       \n",
      "Szeroki   |    11.0   | 3.0       \n",
      "\n"
     ]
    }
   ],
   "source": [
    "posort = np.sort(lista, order=['Pole','Nazwa'])  \n",
    "print('Posortowana po polu')\n",
    "printarr(posort)\n",
    "print()"
   ]
  },
  {
   "cell_type": "markdown",
   "id": "ca4e7af2",
   "metadata": {},
   "source": [
    "### Zadanie 2 - gra 2048\n",
    "\n",
    "Dana jest kwadratowa plansza o boku `SIZE` (np. 4) dla znanej gry 2048 (https://2048game.com/pl/). \n",
    "Każdy wiersz zawiera od 0 do 4 liczb. Należy, z wykorzystaniem konstrukcji Numpy, zasymulować ruch w lewo, w prawo, w górę i w dół planszy zgodnie z regułami gry (ale **BEZ** dodawania nowego kafelka w losowym miejscu). Innymi słowy, trzeba napisać cztery funkcje: \n",
    "- `move_left(...)`, \n",
    "- `move_right(...)`, \n",
    "- `move_up(...)`, \n",
    "- `move_down(...)`.\n",
    "\n",
    "Przykład ruchu w prawo:\n",
    "\n",
    "Wejściem i wyjściem każdej z obu funkcji jest 2-wymiarowa tablica Numpy.\n",
    "\n",
    "> UWAGA: postaraj się napisać funkcję tylko do jednego ruchu, a pozostałe trzy niech się do niej w sprytny sposób odwołują."
   ]
  },
  {
   "cell_type": "code",
   "execution_count": 38,
   "id": "81391828",
   "metadata": {},
   "outputs": [
    {
     "data": {
      "text/plain": [
       "array([[2, 4, 0, 4],\n",
       "       [0, 0, 0, 4],\n",
       "       [0, 0, 0, 2],\n",
       "       [0, 0, 0, 4]])"
      ]
     },
     "execution_count": 38,
     "metadata": {},
     "output_type": "execute_result"
    }
   ],
   "source": [
    "# <<UZUPEŁNIJ>>\n",
    "g1 =np.array([[0,4,2,0],\n",
    "              [0,0,2,2],\n",
    "              [0,0,2,0],\n",
    "              [0,4,0,0]])\n",
    "\n",
    "\n",
    "move_right(g1)"
   ]
  },
  {
   "cell_type": "code",
   "execution_count": 51,
   "id": "21bca070",
   "metadata": {},
   "outputs": [],
   "source": [
    "def move_right(arr):\n",
    "    for y in range(arr.shape[0]):\n",
    "        for x in range(arr.shape[1]):\n",
    "            if arr[y,x] == 0:\n",
    "                continue\n",
    "            elif x != arr.shape[1]-1:\n",
    "                if arr[y,x+1] == 0:\n",
    "                    arr[y,x+1] = arr[y,x]\n",
    "                    arr[y,x] = 0\n",
    "                elif arr[y,x] == arr[y,x+1]:\n",
    "                    arr[y,x+1] = arr[y,x+1]*2\n",
    "                    arr[y,x] = 0\n",
    "                else:\n",
    "                    #x i x+1 są różne\n",
    "                    rest = x - arr.shape[1]-1\n",
    "                    arr2 = []\n",
    "                    for i in range(rest):\n",
    "                        arr2.append(arr[y,x+i])\n",
    "                    arr3 = move_right(np.array(arr2))\n",
    "                    \n",
    "                    for i in range(rest):\n",
    "                        arr[y,x+i] = arr3[i]\n",
    "                    \n",
    "                                \n",
    "    return arr\n",
    "            \n",
    "            \n",
    "            \n",
    "            \n",
    "            "
   ]
  },
  {
   "cell_type": "code",
   "execution_count": 53,
   "id": "4e87a2c6",
   "metadata": {},
   "outputs": [
    {
     "data": {
      "text/plain": [
       "array([[0, 4, 0, 2],\n",
       "       [0, 0, 0, 4],\n",
       "       [0, 0, 0, 2],\n",
       "       [0, 0, 0, 4]])"
      ]
     },
     "execution_count": 53,
     "metadata": {},
     "output_type": "execute_result"
    }
   ],
   "source": [
    "g1 =np.array([[0,4,2,0],\n",
    "              [0,0,2,2],\n",
    "              [0,0,2,0],\n",
    "              [0,4,0,0]])\n",
    "move_right(g1)"
   ]
  },
  {
   "cell_type": "code",
   "execution_count": null,
   "id": "c0fafa18",
   "metadata": {},
   "outputs": [],
   "source": [
    "def right(arr):\n",
    "    for y in range(arr.shape[0]):\n",
    "        for x in range(arr.shape[1]):\n",
    "            if arr[y,-1] == 0:\n",
    "                # przesunąć wszystkie w prawo\n",
    "            \n",
    "            \n",
    "            "
   ]
  },
  {
   "cell_type": "code",
   "execution_count": null,
   "id": "2b4cbb01",
   "metadata": {},
   "outputs": [],
   "source": []
  },
  {
   "cell_type": "code",
   "execution_count": 19,
   "id": "2047ab29",
   "metadata": {},
   "outputs": [
    {
     "data": {
      "text/plain": [
       "4"
      ]
     },
     "execution_count": 19,
     "metadata": {},
     "output_type": "execute_result"
    }
   ],
   "source": [
    "g1.shape[1]\n"
   ]
  },
  {
   "cell_type": "code",
   "execution_count": 16,
   "id": "62ea3071",
   "metadata": {},
   "outputs": [
    {
     "data": {
      "text/plain": [
       "4"
      ]
     },
     "execution_count": 16,
     "metadata": {},
     "output_type": "execute_result"
    }
   ],
   "source": [
    "g1[0,1]"
   ]
  },
  {
   "cell_type": "code",
   "execution_count": null,
   "id": "87fb5af6",
   "metadata": {},
   "outputs": [],
   "source": []
  },
  {
   "cell_type": "code",
   "execution_count": null,
   "id": "68f77883",
   "metadata": {},
   "outputs": [],
   "source": []
  },
  {
   "cell_type": "code",
   "execution_count": null,
   "id": "c14c9b49",
   "metadata": {},
   "outputs": [],
   "source": []
  },
  {
   "cell_type": "code",
   "execution_count": null,
   "id": "e22d81e7",
   "metadata": {},
   "outputs": [],
   "source": []
  },
  {
   "cell_type": "raw",
   "id": "371fae32",
   "metadata": {},
   "source": [
    "def move_right(arr):\n",
    "    for y in range(arr.shape[0]):\n",
    "        for x in range(arr.shape[1]):\n",
    "            if arr[y,x] == 0:\n",
    "                continue\n",
    "            elif x != arr.shape[1]-1:\n",
    "                if arr[y,x+1] == 0:\n",
    "                    arr[y,x+1] = arr[y,x]\n",
    "                    arr[y,x] = 0\n",
    "                elif arr[y,x] == arr[y,x+1]:\n",
    "                    arr[y,x+1] = arr[y,x+1]*2\n",
    "                    arr[y,x] = 0\n",
    "    return arr\n",
    "            \n",
    "            \n",
    "            \n",
    "            \n",
    "            "
   ]
  }
 ],
 "metadata": {
  "author": {
   "email": "robert.susik@p.lodz.pl",
   "name": "Robert Susik"
  },
  "kernelspec": {
   "display_name": "Python 3 (ipykernel)",
   "language": "python",
   "name": "python3"
  },
  "language_info": {
   "codemirror_mode": {
    "name": "ipython",
    "version": 3
   },
   "file_extension": ".py",
   "mimetype": "text/x-python",
   "name": "python",
   "nbconvert_exporter": "python",
   "pygments_lexer": "ipython3",
   "version": "3.10.2"
  },
  "toc": {
   "base_numbering": 1,
   "nav_menu": {},
   "number_sections": true,
   "sideBar": true,
   "skip_h1_title": false,
   "title_cell": "Table of Contents",
   "title_sidebar": "Contents",
   "toc_cell": false,
   "toc_position": {},
   "toc_section_display": true,
   "toc_window_display": false
  }
 },
 "nbformat": 4,
 "nbformat_minor": 5
}
