{
 "cells": [
  {
   "cell_type": "markdown",
   "id": "2a1aca68",
   "metadata": {},
   "source": [
    "# Algorytmika i matematyka uczenia maszynowego \n",
    "## Laboratorium 9"
   ]
  },
  {
   "cell_type": "markdown",
   "id": "7c423d18",
   "metadata": {},
   "source": [
    "\n",
    "### Zadanie 1\n",
    "\n",
    "1. Wczytaj plik `mieszkania.csv`, np. za pomocą:\n",
    "    - biblioteki [`pandas`](https://pandas.pydata.org/docs/reference/api/pandas.read_csv.html) (`read_csv`),\n",
    "    - biblioteki [`numpy`](https://numpy.org/doc/stable/reference/generated/numpy.genfromtxt.html) (`genfromtxt`),\n",
    "    - biblioteki [`csv`](https://docs.python.org/3/library/csv.html) (`reader`).\n",
    "1. Usuń nieprawidłowe dane np. wiersz zawierający wartość `-` lub wartość $0$ powinien zostać usunięty.\n",
    "1. Zamień wartości liczbowe w formacie tekstowym na typ liczbowy.\n",
    "1. Wyświetl **funkcję masy prawdopodobieństwa** wartości mieszkania dla różnych rodzajów \"transakcji rynkowych\". Podpowiedź: możesz skożystać z funkcji `displot` z modułu `seaborn` (jeżeli nie posiadasz to możesz zainstalować za pomocą `pip install seaborn`).\n",
    "1. Wyświetl wszystkie trzy powyższe funkcje (dla ogółu, rynku pierwotnego i wtórnego) na jednym wykresie.\n",
    "1. Opisz wyniki.\n",
    "\n",
    "_Informacja odnośnie zbioru danych:_\n",
    "\n",
    "- _Prezentowane dane dotyczące wielkości sprzedaży oraz cen nieruchomości zostały pobrane z GUSu i opracowane na podstawie informacji pozyskanych z Rejestru Cen Nieruchomości (RCN) – do 31 lipca Rejestru Cen i Wartości Nieruchomości (RCiWN) –  prowadzonego przez starostwa powiatowe i prezydentów miast na prawach powiatu przy wykorzystaniu informacji pochodzących z aktów notarialnych. Obserwacji podlegają tylko te transakcje kupna/sprzedaży nieruchomości, które zostały zawarte w trakcie badanego okresu oraz zostały zarejestrowane w RCN przed datą przekazania wyciągu z rejestru do Głównego Urzędu Statystycznego. Prezentowane są dane dla lokali mieszkalnych znajdujących się w budynkach wielorodzinnych (potocznie mieszkania w blokach), bez informacji o domach jednorodzinnych._\n",
    "- _Prezentowane dane dotyczą sprzedaży o charakterze rynkowym tj. sprzedaży na wolnym rynku (z pewnymi wyłączeniami, np. sprzedaży między stronami spokrewnionymi) oraz sprzedaży przetargowej. W przypadku braku odpowiedniej informacji w zbiorach pochodzących z RCN (do 31 lipca 2021 r. – RCiWN), podział na rynek pierwotny i wtórny został przeprowadzony przyjmując założenie, że sprzedaż na rynku pierwotnym dotyczy transakcji dokonywanych na wolnym rynku, gdzie stroną sprzedającą jest osoba prawna i średnia cena za 1 m2 powierzchni użytkowej lokalu wynosi co najmniej 2 000 zł. Do transakcji na rynku wtórnym zaliczono pozostałe transakcje rynkowe przeprowadzone na wolnym rynku oraz sprzedaż przetargową. W grudniu 2021 r. zasilono BDL danymi ostatecznymi za lata 2010-2014, które dotyczą większej liczby transakcji kupna-sprzedaży lokali mieszkalnych w porównaniu do danych wcześniej opublikowanych przez GUS. Od roku 2020 brak danych dla miasta Koszalin oraz niekompletne dane dla miasta Szczecin._\n",
    "- _Mediana cen za 1 m2 lokali mieszkalnych sprzedanych w ramach transakcji rynkowych_\n",
    "- _Data ostatniej aktualizacji:\t16.12.2021_\n",
    "- Przypisy:\t\n",
    "  - `-` oznacza brak informacji z powodu: zmiany poziomu prezentacji, zmian wprowadzonych do wykazu jednostek terytorialnych lub modyfikacji listy cech w danym okresie sprawozdawczym; \n",
    "  - `n` - Dana jeszcze niedostępna, będzie dostępna; \n",
    "  - `x` - Brak informacji, konieczność zachowania tajemnicy statystycznej lub wypełnienie pozycji jest niemożliwe albo niecelowe; \n",
    "  - `X` - Zmiany metodologiczne, brak informacji, konieczność zachowania tajemnicy statystycznej lub wypełnienie pozycji jest niemożliwe albo niecelowe\n",
    "  "
   ]
  },
  {
   "cell_type": "code",
   "execution_count": 1,
   "id": "1ef0d813",
   "metadata": {},
   "outputs": [
    {
     "data": {
      "text/html": [
       "<div>\n",
       "<style scoped>\n",
       "    .dataframe tbody tr th:only-of-type {\n",
       "        vertical-align: middle;\n",
       "    }\n",
       "\n",
       "    .dataframe tbody tr th {\n",
       "        vertical-align: top;\n",
       "    }\n",
       "\n",
       "    .dataframe thead th {\n",
       "        text-align: right;\n",
       "    }\n",
       "</style>\n",
       "<table border=\"1\" class=\"dataframe\">\n",
       "  <thead>\n",
       "    <tr style=\"text-align: right;\">\n",
       "      <th></th>\n",
       "      <th>Kod</th>\n",
       "      <th>Nazwa</th>\n",
       "      <th>Transakcje rynkowe</th>\n",
       "      <th>Powierzchnia użytkowa lokali mieszkalnych</th>\n",
       "      <th>Rok</th>\n",
       "      <th>Wartosc</th>\n",
       "      <th>Jednostka miary</th>\n",
       "      <th>Atrybut</th>\n",
       "    </tr>\n",
       "  </thead>\n",
       "  <tbody>\n",
       "    <tr>\n",
       "      <th>0</th>\n",
       "      <td>0</td>\n",
       "      <td>POLSKA</td>\n",
       "      <td>ogółem</td>\n",
       "      <td>ogółem</td>\n",
       "      <td>2010</td>\n",
       "      <td>4045</td>\n",
       "      <td>zł</td>\n",
       "      <td></td>\n",
       "    </tr>\n",
       "    <tr>\n",
       "      <th>1</th>\n",
       "      <td>0</td>\n",
       "      <td>POLSKA</td>\n",
       "      <td>ogółem</td>\n",
       "      <td>ogółem</td>\n",
       "      <td>2011</td>\n",
       "      <td>4095</td>\n",
       "      <td>zł</td>\n",
       "      <td></td>\n",
       "    </tr>\n",
       "    <tr>\n",
       "      <th>2</th>\n",
       "      <td>0</td>\n",
       "      <td>POLSKA</td>\n",
       "      <td>ogółem</td>\n",
       "      <td>ogółem</td>\n",
       "      <td>2012</td>\n",
       "      <td>3976</td>\n",
       "      <td>zł</td>\n",
       "      <td></td>\n",
       "    </tr>\n",
       "    <tr>\n",
       "      <th>3</th>\n",
       "      <td>0</td>\n",
       "      <td>POLSKA</td>\n",
       "      <td>ogółem</td>\n",
       "      <td>ogółem</td>\n",
       "      <td>2013</td>\n",
       "      <td>4023</td>\n",
       "      <td>zł</td>\n",
       "      <td></td>\n",
       "    </tr>\n",
       "    <tr>\n",
       "      <th>4</th>\n",
       "      <td>0</td>\n",
       "      <td>POLSKA</td>\n",
       "      <td>ogółem</td>\n",
       "      <td>ogółem</td>\n",
       "      <td>2014</td>\n",
       "      <td>4029</td>\n",
       "      <td>zł</td>\n",
       "      <td></td>\n",
       "    </tr>\n",
       "    <tr>\n",
       "      <th>...</th>\n",
       "      <td>...</td>\n",
       "      <td>...</td>\n",
       "      <td>...</td>\n",
       "      <td>...</td>\n",
       "      <td>...</td>\n",
       "      <td>...</td>\n",
       "      <td>...</td>\n",
       "      <td>...</td>\n",
       "    </tr>\n",
       "    <tr>\n",
       "      <th>71455</th>\n",
       "      <td>3263000</td>\n",
       "      <td>Powiat m.Świnoujście</td>\n",
       "      <td>rynek wtórny</td>\n",
       "      <td>od 80,1 m2</td>\n",
       "      <td>2017</td>\n",
       "      <td>4960</td>\n",
       "      <td>zł</td>\n",
       "      <td></td>\n",
       "    </tr>\n",
       "    <tr>\n",
       "      <th>71456</th>\n",
       "      <td>3263000</td>\n",
       "      <td>Powiat m.Świnoujście</td>\n",
       "      <td>rynek wtórny</td>\n",
       "      <td>od 80,1 m2</td>\n",
       "      <td>2018</td>\n",
       "      <td>5562</td>\n",
       "      <td>zł</td>\n",
       "      <td></td>\n",
       "    </tr>\n",
       "    <tr>\n",
       "      <th>71457</th>\n",
       "      <td>3263000</td>\n",
       "      <td>Powiat m.Świnoujście</td>\n",
       "      <td>rynek wtórny</td>\n",
       "      <td>od 80,1 m2</td>\n",
       "      <td>2019</td>\n",
       "      <td>6488</td>\n",
       "      <td>zł</td>\n",
       "      <td></td>\n",
       "    </tr>\n",
       "    <tr>\n",
       "      <th>71458</th>\n",
       "      <td>3263000</td>\n",
       "      <td>Powiat m.Świnoujście</td>\n",
       "      <td>rynek wtórny</td>\n",
       "      <td>od 80,1 m2</td>\n",
       "      <td>2020</td>\n",
       "      <td>7713</td>\n",
       "      <td>zł</td>\n",
       "      <td></td>\n",
       "    </tr>\n",
       "    <tr>\n",
       "      <th>71459</th>\n",
       "      <td>3263000</td>\n",
       "      <td>Powiat m.Świnoujście</td>\n",
       "      <td>rynek wtórny</td>\n",
       "      <td>od 80,1 m2</td>\n",
       "      <td>2021</td>\n",
       "      <td>-</td>\n",
       "      <td>zł</td>\n",
       "      <td>n</td>\n",
       "    </tr>\n",
       "  </tbody>\n",
       "</table>\n",
       "<p>71460 rows × 8 columns</p>\n",
       "</div>"
      ],
      "text/plain": [
       "           Kod                 Nazwa Transakcje rynkowe  \\\n",
       "0            0                POLSKA             ogółem   \n",
       "1            0                POLSKA             ogółem   \n",
       "2            0                POLSKA             ogółem   \n",
       "3            0                POLSKA             ogółem   \n",
       "4            0                POLSKA             ogółem   \n",
       "...        ...                   ...                ...   \n",
       "71455  3263000  Powiat m.Świnoujście       rynek wtórny   \n",
       "71456  3263000  Powiat m.Świnoujście       rynek wtórny   \n",
       "71457  3263000  Powiat m.Świnoujście       rynek wtórny   \n",
       "71458  3263000  Powiat m.Świnoujście       rynek wtórny   \n",
       "71459  3263000  Powiat m.Świnoujście       rynek wtórny   \n",
       "\n",
       "      Powierzchnia użytkowa lokali mieszkalnych   Rok Wartosc Jednostka miary  \\\n",
       "0                                        ogółem  2010    4045              zł   \n",
       "1                                        ogółem  2011    4095              zł   \n",
       "2                                        ogółem  2012    3976              zł   \n",
       "3                                        ogółem  2013    4023              zł   \n",
       "4                                        ogółem  2014    4029              zł   \n",
       "...                                         ...   ...     ...             ...   \n",
       "71455                                od 80,1 m2  2017    4960              zł   \n",
       "71456                                od 80,1 m2  2018    5562              zł   \n",
       "71457                                od 80,1 m2  2019    6488              zł   \n",
       "71458                                od 80,1 m2  2020    7713              zł   \n",
       "71459                                od 80,1 m2  2021       -              zł   \n",
       "\n",
       "      Atrybut  \n",
       "0              \n",
       "1              \n",
       "2              \n",
       "3              \n",
       "4              \n",
       "...       ...  \n",
       "71455          \n",
       "71456          \n",
       "71457          \n",
       "71458          \n",
       "71459       n  \n",
       "\n",
       "[71460 rows x 8 columns]"
      ]
     },
     "execution_count": 1,
     "metadata": {},
     "output_type": "execute_result"
    }
   ],
   "source": [
    "import pandas as pd\n",
    "import numpy as np \n",
    "mieszkania = pd.read_csv('mieszkania.csv', sep=';')  \n",
    "mieszkania"
   ]
  },
  {
   "cell_type": "code",
   "execution_count": 2,
   "id": "ac5d3259",
   "metadata": {},
   "outputs": [],
   "source": [
    "columns = mieszkania.columns\n",
    "\n",
    "for column in columns:\n",
    "    mieszkania.drop(mieszkania.index[mieszkania[column] == '-'], inplace=True)\n",
    "    mieszkania.drop(mieszkania.index[mieszkania[column] == '0'], inplace=True)"
   ]
  },
  {
   "cell_type": "code",
   "execution_count": 3,
   "id": "7ae6f0a9",
   "metadata": {},
   "outputs": [
    {
     "data": {
      "text/plain": [
       "Kod                                           int64\n",
       "Nazwa                                        object\n",
       "Transakcje rynkowe                           object\n",
       "Powierzchnia użytkowa lokali mieszkalnych    object\n",
       "Rok                                           int64\n",
       "Wartosc                                       int64\n",
       "Jednostka miary                              object\n",
       "Atrybut                                      object\n",
       "dtype: object"
      ]
     },
     "execution_count": 3,
     "metadata": {},
     "output_type": "execute_result"
    }
   ],
   "source": [
    "mieszkania['Wartosc'] = mieszkania['Wartosc'].astype(np.int64)\n",
    "mieszkania.dtypes"
   ]
  },
  {
   "cell_type": "raw",
   "id": "6b5d7c45",
   "metadata": {},
   "source": [
    "fig, axs = plt.subplots(1,3,figsize=(18,6))\n",
    "\n",
    "x=mieszkania.loc[mieszkania['Transakcje rynkowe'] == 'ogółem']['Wartosc']\n",
    "sns.histplot(ax=axs[0],x=x, stat='density',kde=True,bins=30,element=\"step\")\n",
    "axs[0].set_title('ogółem')\n",
    "\n",
    "x=mieszkania.loc[mieszkania['Transakcje rynkowe'] == 'rynek wtórny']['Wartosc']\n",
    "sns.histplot(ax=axs[1],x=x, stat='density',kde=True,bins=30,element=\"step\")\n",
    "axs[1].set_title('rynek wtórny')\n",
    "\n",
    "x=mieszkania.loc[mieszkania['Transakcje rynkowe'] == 'rynek pierwotny']['Wartosc']\n",
    "sns.histplot(ax=axs[2],x=x, stat='density',kde=True,bins=30,element=\"step\")\n",
    "axs[2].set_title('rynek pierwotny')"
   ]
  },
  {
   "cell_type": "code",
   "execution_count": 5,
   "id": "8a1f5436",
   "metadata": {},
   "outputs": [
    {
     "data": {
      "text/plain": [
       "<AxesSubplot:xlabel='Wartosc', ylabel='Count'>"
      ]
     },
     "execution_count": 5,
     "metadata": {},
     "output_type": "execute_result"
    },
    {
     "data": {
      "image/png": "[encoded data removed]",
      "text/plain": [
       "<Figure size 720x720 with 1 Axes>"
      ]
     },
     "metadata": {},
     "output_type": "display_data"
    }
   ],
   "source": [
    "import seaborn as sns\n",
    "sns.set(rc={'figure.figsize':(10,10)})\n",
    "sns.histplot(data=mieszkania, x= \"Wartosc\", hue=\"Transakcje rynkowe\",kde=True,bins=40,element=\"step\", )"
   ]
  },
  {
   "cell_type": "markdown",
   "id": "b2022baa",
   "metadata": {},
   "source": [
    "### Wnioski\n",
    "- Dla rynku pierwotnego dominowała cena mieszkań na poziomie 4000$\\frac{zł}{m^2}$\n",
    "- Dla rynku wtórnego jak i ogólnego dominowała cena mieszkań na poziomie 2500$\\frac{zł}{m^2}$\n",
    "- Rynkiem mieszkaniowym  dominuje rynek wtórny"
   ]
  },
  {
   "cell_type": "markdown",
   "id": "cf517b05",
   "metadata": {},
   "source": [
    "### Zadanie 2 (kontynuacja poprzedniego)\n",
    "1. Wyświetl dystrybuantę (funkcja `ecdfplot`) wartości mieszkań dla rodzaju transakcji `ogólny`.\n",
    "1. Odczytaj \"na oko\" z wykresu ile % mieszkań sprzedaje się za cenę poniżej 4 tys. zł."
   ]
  },
  {
   "cell_type": "code",
   "execution_count": 6,
   "id": "3f95e5fc",
   "metadata": {},
   "outputs": [
    {
     "data": {
      "text/plain": [
       "<AxesSubplot:xlabel='Wartosc', ylabel='Proportion'>"
      ]
     },
     "execution_count": 6,
     "metadata": {},
     "output_type": "execute_result"
    },
    {
     "data": {
      "image/png": "[encoded data removed]",
      "text/plain": [
       "<Figure size 720x720 with 1 Axes>"
      ]
     },
     "metadata": {},
     "output_type": "display_data"
    }
   ],
   "source": [
    "# sns.ecdfplot(data=mieszkania, x=\"Wartosc\")\n",
    "sns.ecdfplot(mieszkania[mieszkania['Transakcje rynkowe'] == 'ogółem']['Wartosc'])\n"
   ]
  },
  {
   "cell_type": "markdown",
   "id": "a578e993",
   "metadata": {},
   "source": [
    "#### Wnioski\n",
    "około 82% mieszkań sprzedaje się w cenie poniżej 4000$\\frac{zł}{m^2}$"
   ]
  },
  {
   "cell_type": "markdown",
   "id": "ff5a323d",
   "metadata": {},
   "source": [
    "### Zadanie 3\n",
    "\n",
    "Opis zbioru danych znajduje się w pliku z danymi.\n",
    "\n",
    "1. Wczytaj plik `boston.txt` (zwróć uwagę na format pliku), bez ręcznej edycji tego pliku.\n",
    "> Podpowiedź: możesz użyć funkcji `read_csv` z parametrami `skiprows`, `header`, `sep`.\n",
    "1. Wyświetl funkcję masy prawdopodobieństwa dla ceny mieszkań.\n",
    "1. Wyświetl funkcję masy prawdopodobieństwa dla dwóch zmiennych (`x` i `y`): `MEDV`, `RM`. W jakiej cenie i liczbie pokoi sprzedaje się najwięcej mieszkań? Co jeszcze można odczytać z wykresu?\n",
    "1. Sprawdź jeszcze jeden dowolny atrybut i opisz wyniki.\n"
   ]
  },
  {
   "cell_type": "raw",
   "id": "bb05d981",
   "metadata": {},
   "source": [
    "sep=r'\\ +'"
   ]
  },
  {
   "cell_type": "code",
   "execution_count": 62,
   "id": "cfbebd90",
   "metadata": {},
   "outputs": [],
   "source": [
    "names = ('CRIM','ZN','INDUS','CHAS','NOX','RM','AGE','DIS','RAD','TAX','PTRATIO','B','LSTAT','MEDV')"
   ]
  },
  {
   "cell_type": "code",
   "execution_count": 63,
   "id": "5f57cda9",
   "metadata": {},
   "outputs": [
    {
     "name": "stderr",
     "output_type": "stream",
     "text": [
      "C:\\Users\\Rafal\\AppData\\Local\\Temp\\ipykernel_19960\\589339442.py:1: ParserWarning: Falling back to the 'python' engine because the 'c' engine does not support regex separators (separators > 1 char and different from '\\s+' are interpreted as regex); you can avoid this warning by specifying engine='python'.\n",
      "  boston = pd.read_csv('boston.txt', sep=r'\\ +', skiprows=21, names = names)\n"
     ]
    }
   ],
   "source": [
    "boston = pd.read_csv('boston.txt', sep=r'\\ +', skiprows=21, names = names) \n"
   ]
  },
  {
   "cell_type": "code",
   "execution_count": 64,
   "id": "339a6cb3",
   "metadata": {},
   "outputs": [],
   "source": [
    "for i in range(boston.shape[0]):\n",
    "    if i % 2:\n",
    "        # print(boston.loc[[i]])\n",
    "        boston.at[i-1,'B'] = boston.loc[[i],'CRIM']\n",
    "        boston.at[i-1,'LSTAT'] = boston.loc[[i],'ZN']\n",
    "        boston.at[i-1,'MEDV'] = boston.loc[[i],'INDUS']\n"
   ]
  },
  {
   "cell_type": "code",
   "execution_count": 65,
   "id": "234603dd",
   "metadata": {},
   "outputs": [],
   "source": [
    "for i in range(boston.shape[0]):\n",
    "    if i % 2:\n",
    "        boston.drop(i, inplace=True)\n"
   ]
  },
  {
   "cell_type": "code",
   "execution_count": 66,
   "id": "f4858fa8",
   "metadata": {},
   "outputs": [
    {
     "data": {
      "text/html": [
       "<div>\n",
       "<style scoped>\n",
       "    .dataframe tbody tr th:only-of-type {\n",
       "        vertical-align: middle;\n",
       "    }\n",
       "\n",
       "    .dataframe tbody tr th {\n",
       "        vertical-align: top;\n",
       "    }\n",
       "\n",
       "    .dataframe thead th {\n",
       "        text-align: right;\n",
       "    }\n",
       "</style>\n",
       "<table border=\"1\" class=\"dataframe\">\n",
       "  <thead>\n",
       "    <tr style=\"text-align: right;\">\n",
       "      <th></th>\n",
       "      <th>CRIM</th>\n",
       "      <th>ZN</th>\n",
       "      <th>INDUS</th>\n",
       "      <th>CHAS</th>\n",
       "      <th>NOX</th>\n",
       "      <th>RM</th>\n",
       "      <th>AGE</th>\n",
       "      <th>DIS</th>\n",
       "      <th>RAD</th>\n",
       "      <th>TAX</th>\n",
       "      <th>PTRATIO</th>\n",
       "      <th>B</th>\n",
       "      <th>LSTAT</th>\n",
       "      <th>MEDV</th>\n",
       "    </tr>\n",
       "  </thead>\n",
       "  <tbody>\n",
       "    <tr>\n",
       "      <th>0</th>\n",
       "      <td>0.00632</td>\n",
       "      <td>18.0</td>\n",
       "      <td>2.31</td>\n",
       "      <td>0.0</td>\n",
       "      <td>0.538</td>\n",
       "      <td>6.575</td>\n",
       "      <td>65.2</td>\n",
       "      <td>4.0900</td>\n",
       "      <td>1.0</td>\n",
       "      <td>296.0</td>\n",
       "      <td>15.3</td>\n",
       "      <td>396.90</td>\n",
       "      <td>4.98</td>\n",
       "      <td>24.0</td>\n",
       "    </tr>\n",
       "    <tr>\n",
       "      <th>2</th>\n",
       "      <td>0.02731</td>\n",
       "      <td>0.0</td>\n",
       "      <td>7.07</td>\n",
       "      <td>0.0</td>\n",
       "      <td>0.469</td>\n",
       "      <td>6.421</td>\n",
       "      <td>78.9</td>\n",
       "      <td>4.9671</td>\n",
       "      <td>2.0</td>\n",
       "      <td>242.0</td>\n",
       "      <td>17.8</td>\n",
       "      <td>396.90</td>\n",
       "      <td>9.14</td>\n",
       "      <td>21.6</td>\n",
       "    </tr>\n",
       "    <tr>\n",
       "      <th>4</th>\n",
       "      <td>0.02729</td>\n",
       "      <td>0.0</td>\n",
       "      <td>7.07</td>\n",
       "      <td>0.0</td>\n",
       "      <td>0.469</td>\n",
       "      <td>7.185</td>\n",
       "      <td>61.1</td>\n",
       "      <td>4.9671</td>\n",
       "      <td>2.0</td>\n",
       "      <td>242.0</td>\n",
       "      <td>17.8</td>\n",
       "      <td>392.83</td>\n",
       "      <td>4.03</td>\n",
       "      <td>34.7</td>\n",
       "    </tr>\n",
       "    <tr>\n",
       "      <th>6</th>\n",
       "      <td>0.03237</td>\n",
       "      <td>0.0</td>\n",
       "      <td>2.18</td>\n",
       "      <td>0.0</td>\n",
       "      <td>0.458</td>\n",
       "      <td>6.998</td>\n",
       "      <td>45.8</td>\n",
       "      <td>6.0622</td>\n",
       "      <td>3.0</td>\n",
       "      <td>222.0</td>\n",
       "      <td>18.7</td>\n",
       "      <td>394.63</td>\n",
       "      <td>2.94</td>\n",
       "      <td>33.4</td>\n",
       "    </tr>\n",
       "    <tr>\n",
       "      <th>8</th>\n",
       "      <td>0.06905</td>\n",
       "      <td>0.0</td>\n",
       "      <td>2.18</td>\n",
       "      <td>0.0</td>\n",
       "      <td>0.458</td>\n",
       "      <td>7.147</td>\n",
       "      <td>54.2</td>\n",
       "      <td>6.0622</td>\n",
       "      <td>3.0</td>\n",
       "      <td>222.0</td>\n",
       "      <td>18.7</td>\n",
       "      <td>396.90</td>\n",
       "      <td>5.33</td>\n",
       "      <td>36.2</td>\n",
       "    </tr>\n",
       "    <tr>\n",
       "      <th>...</th>\n",
       "      <td>...</td>\n",
       "      <td>...</td>\n",
       "      <td>...</td>\n",
       "      <td>...</td>\n",
       "      <td>...</td>\n",
       "      <td>...</td>\n",
       "      <td>...</td>\n",
       "      <td>...</td>\n",
       "      <td>...</td>\n",
       "      <td>...</td>\n",
       "      <td>...</td>\n",
       "      <td>...</td>\n",
       "      <td>...</td>\n",
       "      <td>...</td>\n",
       "    </tr>\n",
       "    <tr>\n",
       "      <th>1002</th>\n",
       "      <td>0.06263</td>\n",
       "      <td>0.0</td>\n",
       "      <td>11.93</td>\n",
       "      <td>0.0</td>\n",
       "      <td>0.573</td>\n",
       "      <td>6.593</td>\n",
       "      <td>69.1</td>\n",
       "      <td>2.4786</td>\n",
       "      <td>1.0</td>\n",
       "      <td>273.0</td>\n",
       "      <td>21.0</td>\n",
       "      <td>391.99</td>\n",
       "      <td>9.67</td>\n",
       "      <td>22.4</td>\n",
       "    </tr>\n",
       "    <tr>\n",
       "      <th>1004</th>\n",
       "      <td>0.04527</td>\n",
       "      <td>0.0</td>\n",
       "      <td>11.93</td>\n",
       "      <td>0.0</td>\n",
       "      <td>0.573</td>\n",
       "      <td>6.120</td>\n",
       "      <td>76.7</td>\n",
       "      <td>2.2875</td>\n",
       "      <td>1.0</td>\n",
       "      <td>273.0</td>\n",
       "      <td>21.0</td>\n",
       "      <td>396.90</td>\n",
       "      <td>9.08</td>\n",
       "      <td>20.6</td>\n",
       "    </tr>\n",
       "    <tr>\n",
       "      <th>1006</th>\n",
       "      <td>0.06076</td>\n",
       "      <td>0.0</td>\n",
       "      <td>11.93</td>\n",
       "      <td>0.0</td>\n",
       "      <td>0.573</td>\n",
       "      <td>6.976</td>\n",
       "      <td>91.0</td>\n",
       "      <td>2.1675</td>\n",
       "      <td>1.0</td>\n",
       "      <td>273.0</td>\n",
       "      <td>21.0</td>\n",
       "      <td>396.90</td>\n",
       "      <td>5.64</td>\n",
       "      <td>23.9</td>\n",
       "    </tr>\n",
       "    <tr>\n",
       "      <th>1008</th>\n",
       "      <td>0.10959</td>\n",
       "      <td>0.0</td>\n",
       "      <td>11.93</td>\n",
       "      <td>0.0</td>\n",
       "      <td>0.573</td>\n",
       "      <td>6.794</td>\n",
       "      <td>89.3</td>\n",
       "      <td>2.3889</td>\n",
       "      <td>1.0</td>\n",
       "      <td>273.0</td>\n",
       "      <td>21.0</td>\n",
       "      <td>393.45</td>\n",
       "      <td>6.48</td>\n",
       "      <td>22.0</td>\n",
       "    </tr>\n",
       "    <tr>\n",
       "      <th>1010</th>\n",
       "      <td>0.04741</td>\n",
       "      <td>0.0</td>\n",
       "      <td>11.93</td>\n",
       "      <td>0.0</td>\n",
       "      <td>0.573</td>\n",
       "      <td>6.030</td>\n",
       "      <td>80.8</td>\n",
       "      <td>2.5050</td>\n",
       "      <td>1.0</td>\n",
       "      <td>273.0</td>\n",
       "      <td>21.0</td>\n",
       "      <td>396.90</td>\n",
       "      <td>7.88</td>\n",
       "      <td>11.9</td>\n",
       "    </tr>\n",
       "  </tbody>\n",
       "</table>\n",
       "<p>506 rows × 14 columns</p>\n",
       "</div>"
      ],
      "text/plain": [
       "         CRIM    ZN  INDUS  CHAS    NOX     RM   AGE     DIS  RAD    TAX  \\\n",
       "0     0.00632  18.0   2.31   0.0  0.538  6.575  65.2  4.0900  1.0  296.0   \n",
       "2     0.02731   0.0   7.07   0.0  0.469  6.421  78.9  4.9671  2.0  242.0   \n",
       "4     0.02729   0.0   7.07   0.0  0.469  7.185  61.1  4.9671  2.0  242.0   \n",
       "6     0.03237   0.0   2.18   0.0  0.458  6.998  45.8  6.0622  3.0  222.0   \n",
       "8     0.06905   0.0   2.18   0.0  0.458  7.147  54.2  6.0622  3.0  222.0   \n",
       "...       ...   ...    ...   ...    ...    ...   ...     ...  ...    ...   \n",
       "1002  0.06263   0.0  11.93   0.0  0.573  6.593  69.1  2.4786  1.0  273.0   \n",
       "1004  0.04527   0.0  11.93   0.0  0.573  6.120  76.7  2.2875  1.0  273.0   \n",
       "1006  0.06076   0.0  11.93   0.0  0.573  6.976  91.0  2.1675  1.0  273.0   \n",
       "1008  0.10959   0.0  11.93   0.0  0.573  6.794  89.3  2.3889  1.0  273.0   \n",
       "1010  0.04741   0.0  11.93   0.0  0.573  6.030  80.8  2.5050  1.0  273.0   \n",
       "\n",
       "      PTRATIO       B  LSTAT  MEDV  \n",
       "0        15.3  396.90   4.98  24.0  \n",
       "2        17.8  396.90   9.14  21.6  \n",
       "4        17.8  392.83   4.03  34.7  \n",
       "6        18.7  394.63   2.94  33.4  \n",
       "8        18.7  396.90   5.33  36.2  \n",
       "...       ...     ...    ...   ...  \n",
       "1002     21.0  391.99   9.67  22.4  \n",
       "1004     21.0  396.90   9.08  20.6  \n",
       "1006     21.0  396.90   5.64  23.9  \n",
       "1008     21.0  393.45   6.48  22.0  \n",
       "1010     21.0  396.90   7.88  11.9  \n",
       "\n",
       "[506 rows x 14 columns]"
      ]
     },
     "execution_count": 66,
     "metadata": {},
     "output_type": "execute_result"
    }
   ],
   "source": [
    "boston"
   ]
  },
  {
   "cell_type": "code",
   "execution_count": 68,
   "id": "f6dd747b",
   "metadata": {},
   "outputs": [
    {
     "data": {
      "text/plain": [
       "<AxesSubplot:xlabel='MEDV', ylabel='Count'>"
      ]
     },
     "execution_count": 68,
     "metadata": {},
     "output_type": "execute_result"
    },
    {
     "data": {
      "image/png": "[encoded data removed]",
      "text/plain": [
       "<Figure size 720x720 with 1 Axes>"
      ]
     },
     "metadata": {},
     "output_type": "display_data"
    }
   ],
   "source": [
    "# masa prawdopodobieństwa dla ceny mieszkań\n",
    "sns.histplot(data=boston, x= \"MEDV\",kde=True,bins=40,element=\"step\", )\n",
    "# najwięcej mieszkań jest w cenie 20_000 USD"
   ]
  },
  {
   "cell_type": "code",
   "execution_count": 70,
   "id": "5b8e829d",
   "metadata": {},
   "outputs": [
    {
     "data": {
      "text/plain": [
       "<AxesSubplot:xlabel='MEDV', ylabel='RM'>"
      ]
     },
     "execution_count": 70,
     "metadata": {},
     "output_type": "execute_result"
    },
    {
     "data": {
      "image/png": "[encoded data removed]",
      "text/plain": [
       "<Figure size 720x720 with 1 Axes>"
      ]
     },
     "metadata": {},
     "output_type": "display_data"
    }
   ],
   "source": [
    "# Wyświetl funkcję masy prawdopodobieństwa dla dwóch zmiennych (x i y):\n",
    "# MEDV, RM. \n",
    "sns.histplot(data=boston, x=\"MEDV\", y='RM',kde=True,bins=40,element=\"step\", )\n"
   ]
  },
  {
   "cell_type": "markdown",
   "id": "38b2ef0f",
   "metadata": {},
   "source": [
    "W jakiej cenie i liczbie pokoi sprzedaje się najwięcej mieszkań?\n",
    "- 20 000 USD\n",
    "- 6 pokoi\n",
    "\n",
    "Co jeszcze można odczytać z wykresu?\n",
    "- najpopularniuejsze są mieszkania 5-7 pokojowe\n",
    "- cena rośnie wraz z ilością pokoi\n"
   ]
  },
  {
   "cell_type": "code",
   "execution_count": 82,
   "id": "0c97539f",
   "metadata": {},
   "outputs": [
    {
     "data": {
      "text/plain": [
       "<AxesSubplot:xlabel='DIS', ylabel='CRIM'>"
      ]
     },
     "execution_count": 82,
     "metadata": {},
     "output_type": "execute_result"
    },
    {
     "data": {
      "image/png": "[encoded data removed]",
      "text/plain": [
       "<Figure size 720x720 with 1 Axes>"
      ]
     },
     "metadata": {},
     "output_type": "display_data"
    }
   ],
   "source": [
    "sns.histplot(data=boston, x=\"DIS\", y='CRIM',bins=40, )"
   ]
  },
  {
   "cell_type": "markdown",
   "id": "f2706e74",
   "metadata": {},
   "source": [
    "Najwięcej przestępstw jest popełnianych w miastach o bliskej odległości do zakładów pracy"
   ]
  },
  {
   "cell_type": "code",
   "execution_count": null,
   "id": "361965b0",
   "metadata": {},
   "outputs": [],
   "source": []
  }
 ],
 "metadata": {
  "author": {
   "email": "robert.susik@p.lodz.pl",
   "name": "Robert Susik"
  },
  "kernelspec": {
   "display_name": "Python 3 (ipykernel)",
   "language": "python",
   "name": "python3"
  },
  "language_info": {
   "codemirror_mode": {
    "name": "ipython",
    "version": 3
   },
   "file_extension": ".py",
   "mimetype": "text/x-python",
   "name": "python",
   "nbconvert_exporter": "python",
   "pygments_lexer": "ipython3",
   "version": "3.9.0"
  },
  "toc": {
   "base_numbering": 1,
   "nav_menu": {},
   "number_sections": true,
   "sideBar": true,
   "skip_h1_title": false,
   "title_cell": "Table of Contents",
   "title_sidebar": "Contents",
   "toc_cell": false,
   "toc_position": {},
   "toc_section_display": true,
   "toc_window_display": false
  }
 },
 "nbformat": 4,
 "nbformat_minor": 5
}
