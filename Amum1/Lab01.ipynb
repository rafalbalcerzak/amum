{
 "cells": [
  {
   "cell_type": "markdown",
   "id": "1a7c2073",
   "metadata": {},
   "source": [
    "# Algorytmika i matematyka uczenia maszynowego \n",
    "## Laboratorium 1\n",
    "\n",
    "**UWAGA**: W niniejszym laboratorium proszę nie korzystać z zewnętrzych modułów/bibliotek.\n",
    "\n",
    "### Zad 1:\n",
    "\n",
    "Zaimplementuj funkcję:\n",
    "$f(x) = \\frac{1}{8}x^{4} + 2(x + 0.7)^{3} - \\frac{1}{2}x^{2} - 38 x + 1$\n",
    "\n"
   ]
  },
  {
   "cell_type": "code",
   "execution_count": 2,
   "id": "cde33477",
   "metadata": {},
   "outputs": [
    {
     "data": {
      "text/plain": [
       "-27.549"
      ]
     },
     "execution_count": 2,
     "metadata": {},
     "output_type": "execute_result"
    }
   ],
   "source": [
    "def f(x):\n",
    "    return(x**4)/8 + 2*((x+0.7)**3)-(1/2)*x**2-38*x+1\n",
    "f(1)"
   ]
  },
  {
   "cell_type": "markdown",
   "id": "1cb15eec",
   "metadata": {},
   "source": [
    "### Zad 2:\n",
    "\n",
    "Oblicz wartosc funkcji $f(x)$ w przedziale [-20, 20] z krokiem 1 ($\\Delta$).\n",
    "\n"
   ]
  },
  {
   "cell_type": "code",
   "execution_count": 31,
   "id": "32f3869d",
   "metadata": {},
   "outputs": [
    {
     "data": {
      "text/plain": [
       "[6182.885999999999,\n",
       " 4575.650999999998,\n",
       " 3289.565999999999,\n",
       " 2281.1309999999994,\n",
       " 1509.8459999999986,\n",
       " 938.2109999999993,\n",
       " 531.7259999999997,\n",
       " 258.89099999999917,\n",
       " 91.20599999999968,\n",
       " 3.170999999999367,\n",
       " -27.714000000000397,\n",
       " -20.949000000000296,\n",
       " 6.966000000000008,\n",
       " 42.53100000000006,\n",
       " 75.24600000000004,\n",
       " 97.61100000000002,\n",
       " 105.126,\n",
       " 96.291,\n",
       " 72.606,\n",
       " 38.571,\n",
       " 1.686,\n",
       " -27.549,\n",
       " -35.63399999999999,\n",
       " -6.068999999999988,\n",
       " 80.64600000000002,\n",
       " 247.01100000000002,\n",
       " 518.5260000000001,\n",
       " 923.691,\n",
       " 1494.0059999999996,\n",
       " 2263.9709999999995,\n",
       " 3271.0859999999993,\n",
       " 4555.850999999999,\n",
       " 6161.766,\n",
       " 8135.330999999998,\n",
       " 10526.045999999998,\n",
       " 13386.411,\n",
       " 16771.926,\n",
       " 20741.091,\n",
       " 25355.406,\n",
       " 30679.371,\n",
       " 36780.486]"
      ]
     },
     "execution_count": 31,
     "metadata": {},
     "output_type": "execute_result"
    }
   ],
   "source": [
    "y_lst = []\n",
    "x_lst = [i for i in range(-20,21,1)]\n",
    "\n",
    "for x in range(-20,21,1):\n",
    "    y_lst.append(f(x))\n",
    "\n",
    "y_lst"
   ]
  },
  {
   "cell_type": "markdown",
   "id": "7fe8c5b2",
   "metadata": {},
   "source": [
    "### Zad 3:\n",
    "\n",
    "Wyświetl wykres funkcji $f(x)$."
   ]
  },
  {
   "cell_type": "code",
   "execution_count": 33,
   "id": "92771912",
   "metadata": {},
   "outputs": [
    {
     "data": {
      "text/plain": [
       "[<matplotlib.lines.Line2D at 0x2275d05c2b0>]"
      ]
     },
     "execution_count": 33,
     "metadata": {},
     "output_type": "execute_result"
    },
    {
     "data": {
      "image/png": "[encoded data removed]",
      "text/plain": [
       "<Figure size 432x288 with 1 Axes>"
      ]
     },
     "metadata": {
      "needs_background": "light"
     },
     "output_type": "display_data"
    }
   ],
   "source": [
    "import matplotlib.pyplot as plt\n",
    "    \n",
    "plt.plot(x_lst, y_lst)"
   ]
  },
  {
   "cell_type": "markdown",
   "id": "65bd3ed0",
   "metadata": {},
   "source": [
    "### Zad 4:\n",
    "\n",
    "Znajdź taką wartość $x$ (w przedziale _[-20, 20]_), dla której funkcja $f(x)$ przyjmuje najmniejszą wartość."
   ]
  },
  {
   "cell_type": "code",
   "execution_count": 52,
   "id": "15bf81b0",
   "metadata": {},
   "outputs": [
    {
     "name": "stdout",
     "output_type": "stream",
     "text": [
      "(2, -35.63399999999999)\n"
     ]
    }
   ],
   "source": [
    "def minof(x, y):\n",
    "    return (x[y.index(min(y))], min(y) )\n",
    "print (minof(x_lst, y_lst))"
   ]
  },
  {
   "cell_type": "markdown",
   "id": "ba91da34",
   "metadata": {},
   "source": [
    "### Zad 5:\n",
    "\n",
    "Wyznacz inną liczbę przedziałów (inny krok ($\\Delta$)) z zakresu _[-20, 20]_ i sprawdź czy odnajdziesz mniejszą wartość minimalną funkcji $f(x)$ niż w poprzednim zadaniu? Jeżeli tak to podaj wartość $x$ dla której znalazłeś najmniejszą wartość funkcji $f(x)$."
   ]
  },
  {
   "cell_type": "code",
   "execution_count": 53,
   "id": "a9ee22b3",
   "metadata": {},
   "outputs": [
    {
     "name": "stdout",
     "output_type": "stream",
     "text": [
      "(1.8, -36.457800000000006)\n"
     ]
    }
   ],
   "source": [
    "y_lst_2 = []\n",
    "x_lst_2 = [i/10 for i in range(-150,100,1)]\n",
    "\n",
    "for x in range(-150,100,1):\n",
    "    y_lst_2.append(f(x/10))\n",
    "    \n",
    "print (minof(x_lst_2, y_lst_2))"
   ]
  },
  {
   "cell_type": "markdown",
   "id": "cc4741fb",
   "metadata": {},
   "source": [
    "### Zad 6:\n",
    "\n",
    "Wyświetl wykres (parametry wykresu dobierz samodzielnie) prezentujący minimum funkcji $f(x)$\n"
   ]
  },
  {
   "cell_type": "code",
   "execution_count": 57,
   "id": "0e0a8ef1",
   "metadata": {},
   "outputs": [
    {
     "data": {
      "text/plain": [
       "<matplotlib.collections.PathCollection at 0x2275d94c940>"
      ]
     },
     "execution_count": 57,
     "metadata": {},
     "output_type": "execute_result"
    },
    {
     "data": {
      "image/png": "[encoded data removed]",
      "text/plain": [
       "<Figure size 432x288 with 1 Axes>"
      ]
     },
     "metadata": {
      "needs_background": "light"
     },
     "output_type": "display_data"
    }
   ],
   "source": [
    "fun_min = minof(x_lst_2, y_lst_2)\n",
    "\n",
    "plt.plot(x_lst_2, y_lst_2)\n",
    "plt.scatter(fun_min[0],fun_min[1])"
   ]
  },
  {
   "cell_type": "markdown",
   "id": "c03266a9",
   "metadata": {},
   "source": [
    "### Zad 7:\n",
    "\n",
    "Znajdź taką wartość $x$ (w przedziale _[-20, 20])_, dla której funkcja $f(x)$ przyjmuje najmniejszą wartość.\n",
    "W tym zadaniu wygeneruj $k$ losowych wartości $x$ (metoda Monte Carlo).\n",
    "Wyświetl wykres funkcji."
   ]
  },
  {
   "cell_type": "code",
   "execution_count": 83,
   "id": "33da4893",
   "metadata": {},
   "outputs": [
    {
     "name": "stdout",
     "output_type": "stream",
     "text": [
      "min:  (1.8, -36.457800000000006)\n"
     ]
    },
    {
     "data": {
      "text/plain": [
       "<matplotlib.collections.PathCollection at 0x2275fcaa680>"
      ]
     },
     "execution_count": 83,
     "metadata": {},
     "output_type": "execute_result"
    },
    {
     "data": {
      "image/png": "[encoded data removed]",
      "text/plain": [
       "<Figure size 432x288 with 1 Axes>"
      ]
     },
     "metadata": {
      "needs_background": "light"
     },
     "output_type": "display_data"
    }
   ],
   "source": [
    "import random\n",
    "x_lst_3 = [random.randint(-200,200)/10 for i in range(100) ]\n",
    "y_lst_3 = []\n",
    "\n",
    "x_lst_3.sort()\n",
    "\n",
    "for x in x_lst_3:\n",
    "    y_lst_3.append(f(x))\n",
    "\n",
    "fun_min_3 = minof(x_lst_3, y_lst_3)\n",
    "print(\"min: \",fun_min_3)\n",
    "\n",
    "plt.plot(x_lst_3, y_lst_3)\n",
    "plt.scatter(fun_min_3[0],fun_min_3[1])"
   ]
  },
  {
   "cell_type": "code",
   "execution_count": null,
   "id": "0ca4f5e1",
   "metadata": {},
   "outputs": [],
   "source": []
  }
 ],
 "metadata": {
  "kernelspec": {
   "display_name": "Python 3 (ipykernel)",
   "language": "python",
   "name": "python3"
  },
  "language_info": {
   "codemirror_mode": {
    "name": "ipython",
    "version": 3
   },
   "file_extension": ".py",
   "mimetype": "text/x-python",
   "name": "python",
   "nbconvert_exporter": "python",
   "pygments_lexer": "ipython3",
   "version": "3.10.2"
  },
  "toc": {
   "base_numbering": 1,
   "nav_menu": {},
   "number_sections": true,
   "sideBar": true,
   "skip_h1_title": false,
   "title_cell": "Table of Contents",
   "title_sidebar": "Contents",
   "toc_cell": false,
   "toc_position": {},
   "toc_section_display": true,
   "toc_window_display": false
  }
 },
 "nbformat": 4,
 "nbformat_minor": 5
}
