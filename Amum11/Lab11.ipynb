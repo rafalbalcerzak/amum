{
 "cells": [
  {
   "cell_type": "markdown",
   "id": "1d685a9d",
   "metadata": {},
   "source": [
    "# Algorytmika i matematyka uczenia maszynowego \n",
    "## Laboratorium 11 - macierz odwrotna i wyznacznik macierzy\n",
    "\n",
    "\n",
    "### Zadanie 1 - szyfr Hilla\n",
    "\n",
    "Zaimplementuj dwie funkcje do kodowania i dekodowania wiadomości za pomocą szyfru [Hilla](https://pl.wikipedia.org/wiki/Szyfr_Hilla):\n",
    "* `encrypt(t, K)` - szyfruje tekst $t$ za pomocą klucza (macierzy) $K$.\n",
    "* `decrypt(s, K)` - deszyfruje kod $s$ za pomocą klucza (macierzy) $K$.\n",
    "\n",
    "#### Kodowanie\n",
    "\n",
    "W systemie kodowania ASCII litery A - Z zapisane są jako liczby z zakresu 65 - 90. Aby zaszyfrować tekst za pomocą klucza $K$ (macierz o wymiarach $m$ x $m$), należy zapisać znaki tekstu w postaci macierzy o wymiarach $m$ x $n$, a następnie wykonać następujące operacje:\n",
    "\n",
    "1. Utworzyć macierz szyfrującą $K$, której wyznacznik wynosi $det(K) = 1$.\n",
    "> Uwaga: jest to odstępstwo od oryginalnego algorytmu mające na celu uproszczenie przykładu.\n",
    "> Macierz taką można utworzyć z macierzy jednostkowej (`np.identity`), korzystając z operacji elementarnych np. dodając do jednego wiersza macierzy inny wiersz pomnożony przez skalar.\n",
    "1. Zamienić litery tekstu $t$ o długości $h$ na wektor liczb.\n",
    "1. Dopełnić (_padding_) zerami, aby można było wykonać kolejny krok.\n",
    "1. Przekształcić na macierz $X$ o wymiarach ($m$ x $n$), gdzie $n = \\lceil \\frac{h}{m} \\rceil$ (możesz użyć funkcji `reshape`).\n",
    "1. Wykonać operację $S = (KX)$.\n",
    "1. Skonwertować macierz $S$ na wektor (możesz użyć funkcji `flatten`) i zwrócić szyfrogram $s$ (zaszyfrowany tekst).\n",
    "\n",
    "\n",
    "> Uwaga 1: Przedstawiony algorytm jest uproszczonym algorytmem, posiadającym ograniczenie $det(K)=1$, które można pominąć, ale wtedy należy do macierzy kodującej wyznaczyć macierz odwrotną modulo 26 (liczba znaków A-Z, ale może być dowolna inna). Podobnie, należy macierz $S$ zamienić na modulo 26. **Istotne**: W tym przypadku należy pamiętać, że wyznacznik macierzy szyfrującej $det(K)$ nie może posiadać wspólnego dzielnika z liczbą 26 (czyli obie liczby muszą być względnie pierwsze). Dlaczego? Bo w przeciwnym wypadku nie istnieje liczba odwrotna do $det(K) \\textit{ mod } 26$.\n",
    "\n",
    "> Uwaga 2: ciąg $s$ może zawierać niedrukowalne znaki. Jeżeli chcesz tego uniknąć możesz np. zmapować znaki (65-90) do zakresu 0-25. Następnie przy wyświetlaniu przeprowadzić operację w drugą stronę.\n",
    "\n",
    "\n",
    "#### Dekodowanie\n",
    "\n",
    "Aby rozszyfrować zaszyfrowaną wiadomość $s$, należy:\n",
    "\n",
    "1. Zamienić ciąg $s$ na macierz $S$.\n",
    "1. Obliczyć macierz odwrotną $K^{-1}$ (funkcja `np.linalg.inv`).\n",
    "1. Rozszyfrować wiadomość wykonując operację $W = K^{-1} S$.\n",
    "1. Skonwertować wiadomość $W$ na ciąg tekstowy $w$.\n",
    "\n",
    "\n",
    "**Uwaga**: Jest to tylko laboratoryjny przykład na zastosowanie operacji macierzowych. Przedstawione rozwiązanie nie jest bezpieczne."
   ]
  },
  {
   "cell_type": "code",
   "execution_count": 88,
   "id": "56603989",
   "metadata": {},
   "outputs": [],
   "source": [
    "import numpy as np\n",
    "\n",
    "tekst = '12abcdefghijklmno'\n",
    "\n",
    "# tekst na wektor wartosci asci\n",
    "asci_arr = []\n",
    "for l in tekst:\n",
    "    asci_arr.append(ord(l))\n",
    "    \n",
    "    \n",
    "# macierz szyfrująca\n",
    "K = np.identity(2)\n",
    "K = K + [np.zeros(2),K[0,]*2]\n",
    "\n",
    "# dopełnianie wektora tekstu\n",
    "for _ in range(K.shape[0] - len(asci_arr)%K.shape[0]):\n",
    "    asci_arr.append(0)\n",
    "\n",
    "\n",
    "# przekształcenie wektora na macierz\n",
    "X = np.array(asci_arr)\n",
    "\n",
    "X = X.reshape(K.shape[0],int(X.shape[0]/K.shape[0]))\n",
    "\n",
    "# szyfrowanie\n",
    "S = K @ X \n",
    "\n",
    "\n",
    "# for l in asci_arr:\n",
    "#     print(chr(l))"
   ]
  },
  {
   "cell_type": "code",
   "execution_count": 186,
   "id": "3c4f16e3",
   "metadata": {},
   "outputs": [],
   "source": [
    "def encrypt(t, K):\n",
    "    X =[]\n",
    "    for l in t:\n",
    "        X.append(ord(l))\n",
    "    \n",
    "    for _ in range(K.shape[0] - len(X)%K.shape[0]):\n",
    "        X.append(0)\n",
    "\n",
    "    X = np.array(X)\n",
    "    X = X.reshape(K.shape[0],int(X.shape[0]/K.shape[0]))\n",
    "    \n",
    "    S = K @ X\n",
    "\n",
    "    S = S.flatten()\n",
    "    ans = ''\n",
    "    for l in S:\n",
    "        ans+= chr(int(l))\n",
    "    return (ans)\n",
    "        "
   ]
  },
  {
   "cell_type": "code",
   "execution_count": 187,
   "id": "8b5ea86a",
   "metadata": {},
   "outputs": [],
   "source": [
    "def decrypt(t, K):\n",
    "    S = []\n",
    "    for l in t:\n",
    "        S.append(ord(l))\n",
    "    \n",
    "    S = np.array(S)\n",
    "    S = S.reshape(K.shape[0],int(S.shape[0]/K.shape[0]))\n",
    "    \n",
    "    X =  np.linalg.inv(K) @ S \n",
    "    \n",
    "    X = X.flatten()\n",
    "    ans = ''\n",
    "    for l in X:\n",
    "        ans+= chr(int(l))\n",
    "    return (ans)\n",
    "        "
   ]
  },
  {
   "cell_type": "code",
   "execution_count": 201,
   "id": "669c6f80",
   "metadata": {},
   "outputs": [
    {
     "name": "stdout",
     "output_type": "stream",
     "text": [
      "1.0\n",
      "[[4.  1.5]\n",
      " [2.  1. ]]\n"
     ]
    },
    {
     "data": {
      "text/plain": [
       "'ɭȕǈȯ֮ĲȿȿڟȧȘƤ\\x80ŒģìĴ˳·ĹļͮĭĔÒ@'"
      ]
     },
     "execution_count": 201,
     "metadata": {},
     "output_type": "execute_result"
    }
   ],
   "source": [
    "tekst = 'rafał jeździ na rowerze '\n",
    "\n",
    "K = np.identity(2)\n",
    "K = K + [np.zeros(2),K[0,]*2]\n",
    "K = K + [K[1,]*1.5,np.zeros(2)]\n",
    "\n",
    "print(np.linalg.det(K))\n",
    "print(K)\n",
    "\n",
    "szyfr = encrypt(tekst, K)\n",
    "szyfr"
   ]
  },
  {
   "cell_type": "code",
   "execution_count": 199,
   "id": "2187e7ea",
   "metadata": {},
   "outputs": [
    {
     "name": "stdout",
     "output_type": "stream",
     "text": [
      "rafał jeździ na rowerze \u0000\u0000\n"
     ]
    }
   ],
   "source": [
    "deszyfr = decrypt(szyfr, K)\n",
    "print(deszyfr)"
   ]
  },
  {
   "cell_type": "markdown",
   "id": "08744169",
   "metadata": {},
   "source": [
    "### Zadanie 2\n",
    "\n",
    "Zaimplementować funkcję, która przyjmuje macierz kwadratową jako argument i zwraca jej wyznacznik obliczony zgodnie ze wzorem [Leibniza](https://en.wikipedia.org/wiki/Leibniz_formula_for_determinants) (_definicja permutacyjna_) i porównaj z wynikiem gotowej funkcji z biblioteki numpy `np.linalg.det`.\n",
    "\n",
    "$$\n",
    "\\text{det}(A) = \\sum_{\\sigma \\in S_n}\\left(\\text{sgn}(\\sigma)\\prod_{i=0}^{n-1}a_{i, \\sigma(i)}\\right)\n",
    "$$\n",
    "\n",
    ", gdzie:\n",
    "\n",
    "* $S_n$ - [grupa permutacji](https://en.wikipedia.org/wiki/Symmetric_group) (dla macierzy 3x3 będą to permutacje ze zbioru {0, 1, 2})\n",
    "* $\\text{sgn}$ - jest to symbol \"+\", \"-\" w zależny od [parzystości permutacji](https://en.wikipedia.org/wiki/Parity_of_a_permutation). Np. dla permutacji `[1, 2, 0]` będzie to \"+\" (trzeba wykonać dwie operacje - zamienić `0` z `1` a później `0` z `2`, a dla permutacji `[0, 2, 1]` będzie \"-\" ponieważ wystarczy jedna operacja (zamiana `1` z `2`).\n",
    "* $\\sigma$ - permutacja (element z grupy permutacji $S_n$)\n",
    "\n",
    "##### Przykład dla macierzy 3x3\n",
    "\n",
    "| $\\sigma$ | $\\text{sgn}$ | $\\text{sgn}(\\sigma)\\prod_{i=0}^{n-1}a_{i, \\sigma(i)}$ |\n",
    "| :---     | :---         | ---: |\n",
    "| 1, 2, 3  | +            | $+a_{1,1}a_{2,2}a_{3,3}$ |\n",
    "| 1, 3, 2  | -            | $-a_{1,1}a_{2,3}a_{3,2}$ |\n",
    "| 3, 1, 2  | +            | $+a_{1,3}a_{2,1}a_{3,2}$ |\n",
    "| 3, 2, 1  | -            | $-a_{1,3}a_{2,2}a_{3,1}$ |\n",
    "| 2, 3, 1  | +            | $+a_{1,2}a_{2,3}a_{3,1}$ |\n",
    "| 2, 1, 3  | -            | $-a_{1,2}a_{2,1}a_{3,3}$ |\n",
    "\n",
    "$\\text{det}(A) = a_{1,1}a_{2,2}a_{3,3} - a_{1,1}a_{2,3}a_{3,2} + a_{1,3}a_{2,1}a_{3,2} - a_{1,3}a_{2,2}a_{3,1} + a_{1,2}a_{2,3}a_{3,1} - a_{1,2}a_{2,1}a_{3,3}$\n",
    "\n",
    "> Uwaga 1: Aby sprawdzić parzystość permutacji możesz użyć funkcji `parity` z biblioteki [`sympy`](https://docs.sympy.org/latest/modules/combinatorics/permutations.html#sympy.combinatorics.permutations.Permutation.parity). Przykład: \n",
    "    ```from sympy.combinatorics import Permutation\n",
    "Permutation([0, 2, 1]).parity()\n",
    "    ```\n",
    "    \n",
    "> Uwaga 2: W celu wygenerowania permutacji możesz użyć funkcji `permutations` z modułu [`itertools`](https://docs.python.org/3/library/itertools.html#itertools.permutations)\n",
    "\n",
    "> Uwaga 3: Pamiętaj, że w numpy porównywanie liczb zmiennoprzecinkowych wykonuje się za pomocą funkcji [`allclose`](https://numpy.org/doc/stable/reference/generated/numpy.allclose.html)"
   ]
  },
  {
   "cell_type": "code",
   "execution_count": null,
   "id": "65ad8056",
   "metadata": {},
   "outputs": [],
   "source": [
    "# >> UZUPEŁNIJ <<"
   ]
  }
 ],
 "metadata": {
  "author": {
   "email": "robert.susik@p.lodz.pl",
   "name": "Robert Susik"
  },
  "kernelspec": {
   "display_name": "Python 3 (ipykernel)",
   "language": "python",
   "name": "python3"
  },
  "language_info": {
   "codemirror_mode": {
    "name": "ipython",
    "version": 3
   },
   "file_extension": ".py",
   "mimetype": "text/x-python",
   "name": "python",
   "nbconvert_exporter": "python",
   "pygments_lexer": "ipython3",
   "version": "3.10.2"
  },
  "toc": {
   "base_numbering": 1,
   "nav_menu": {},
   "number_sections": true,
   "sideBar": true,
   "skip_h1_title": false,
   "title_cell": "Table of Contents",
   "title_sidebar": "Contents",
   "toc_cell": false,
   "toc_position": {},
   "toc_section_display": true,
   "toc_window_display": false
  }
 },
 "nbformat": 4,
 "nbformat_minor": 5
}
