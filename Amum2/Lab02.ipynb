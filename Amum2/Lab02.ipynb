{
 "cells": [
  {
   "cell_type": "markdown",
   "id": "9ed56307",
   "metadata": {},
   "source": [
    "# Algorytmika i matematyka uczenia maszynowego \n",
    "## Laboratorium 2\n",
    "\n",
    "Do wykonania zadań proszę zapoznać się z metodami, właściwościami, oraz funkcjami:\n",
    "`__repr__`, `__str__`, `__add__`, `__sub__`, `__eq__`, `__lt__`, `__gt__`, `__le__`, `__ge__`, `__ne__`, `__hash__`, `__truediv__`, `__mul__`, `__class__`, `__name__`, `id`.\n",
    "\n",
    "Operatory: https://docs.python.org/3/library/operator.html\n",
    "\n",
    "\n",
    "**UWAGA**: W ninejszym laboratorium proszę nie korzystać z zewnętrzych modułów/bibliotek (poza biblioteką _matplotlib_).\n",
    "\n",
    "**UWAGA 2**: Obsługę błędów należy zrealizować w postaci wyjątków.\n",
    "\n",
    "### Zadanie 1\n",
    "\n",
    "Napisz klasę `Vector` udostępniającą funkcjonalność:\n",
    "- reprezentuje wektor dowolnej długości,\n",
    "- obiekt inicjowany listą (np. `Vector([1, 2, 3])`,\n",
    "- posiada funkcję zwracającą moduł wektora,\n",
    "- umożliwia dodawanie (`+`) i odejmowanie (`-`) wektorów. Dodaj obsługę błędów (różna długość (liczba elementów) wektora),\n",
    "- możliwość wyświetlenia wektora jako listy za pomocą funkcji `print(v)` (metoda `__str__`),\n",
    "- uruchomienie komórki zawierającej jedynie nazwę zmiennej (typu `Vector`) spowoduje wyświetlenie nazwy typu `Vector`, adresu zmiennej w pamięci (funkcja `id`) oraz jej zawartości, np. `<Vector([1, 2, 3]) at 140185630442880>` (metoda `__repr__`)"
   ]
  },
  {
   "cell_type": "code",
   "execution_count": null,
   "id": "d7a42db7",
   "metadata": {},
   "outputs": [],
   "source": [
    "import matplotlib.pyplot as plt"
   ]
  },
  {
   "cell_type": "code",
   "execution_count": null,
   "id": "ac82ae76",
   "metadata": {},
   "outputs": [],
   "source": [
    "class Vector:\n",
    "    def __init__(self, args):\n",
    "        self.values = args\n",
    "    \n",
    "    def module(self):\n",
    "        return (sum( self.values[x]**2 for x in range(len(self.values) )))**(1/2)\n",
    "    \n",
    "    def __len__(self):\n",
    "        return len(self.values)\n",
    "    \n",
    "    def __str__(self):\n",
    "        return str(self.values)\n",
    "    \n",
    "    def __add__(self, other):\n",
    "        if len(self) != len(other):\n",
    "            raise Exception (\"Wektory nie są tych samych wymiarów\")\n",
    "        else:\n",
    "            return Vector([(self.values[x] + other.values[x]) for x in range(len(self))])\n",
    "    \n",
    "    def __sub__(self, other):\n",
    "        if len(self) != len(other):\n",
    "            raise Exception (\"Wektory nie są tych samych wymiarów\")\n",
    "        else:\n",
    "            return Vector([(self.values[x] - other.values[x]) for x in range(len(self))])\n",
    "    \n",
    "    def __repr__(self):\n",
    "        return(f\"<{self.__class__.__name__}({self.values}) at {id(self)}>\")\n",
    "    \n",
    "    def __lt__(self, other):\n",
    "        a=[]\n",
    "        for x in range(len(self)):\n",
    "            if self.values[x] < other.values[x]:\n",
    "                a.append(True)\n",
    "            else:\n",
    "                a.append(False)\n",
    "        return Vector(a)\n",
    "    \n",
    "    def __le__(self, other):\n",
    "        a=[]\n",
    "        for x in range(len(self)):\n",
    "            if self.values[x] <= other.values[x]:\n",
    "                a.append(True)\n",
    "            else:\n",
    "                a.append(False)\n",
    "        return Vector(a)\n",
    "    \n",
    "    def __eq__(self, other):\n",
    "        a=[]\n",
    "        for x in range(len(self)):\n",
    "            if self.values[x] == other.values[x]:\n",
    "                a.append(True)\n",
    "            else:\n",
    "                a.append(False)\n",
    "        return Vector(a)\n",
    "\n",
    "    def __ne__(self, other):\n",
    "        a=[]\n",
    "        for x in range(len(self)):\n",
    "            if self.values[x] != other.values[x]:\n",
    "                a.append(True)\n",
    "            else:\n",
    "                a.append(False)\n",
    "        return Vector(a)\n",
    "    \n",
    "    def __ge__(self, other):\n",
    "        a=[]\n",
    "        for x in range(len(self)):\n",
    "            if self.values[x] >= other.values[x]:\n",
    "                a.append(True)\n",
    "            else:\n",
    "                a.append(False)\n",
    "        return Vector(a)\n",
    "    \n",
    "    def __gt__(self, other):\n",
    "        a=[]\n",
    "        for x in range(len(self)):\n",
    "            if self.values[x] > other.values[x]:\n",
    "                a.append(True)\n",
    "            else:\n",
    "                a.append(False)\n",
    "        return Vector(a)\n",
    "    \n",
    "    def plot(self):\n",
    "        if len(self)==2:\n",
    "            plt.arrow(0,0,self.values[0], self.values[1], head_width = 0.1)\n",
    "            plt.show()\n",
    "\n",
    "    def __hash__(self):\n",
    "        return hash(tuple(self.values))\n",
    "    \n",
    "    def __truediv__(self, scalar):\n",
    "        if scalar == 0:\n",
    "            raise Exception (\"Nie dziel przez zero\")\n",
    "        else:\n",
    "             return Vector([(self.values[x]/scalar) for x in range(len(self))])\n",
    "            \n",
    "    def __mul__(self, scalar):\n",
    "        if scalar == 0:\n",
    "            raise Exception (\"Nie dziel przez zero\")\n",
    "        else:\n",
    "            return Vector([(self.values[x]*scalar) for x in range(len(self))])"
   ]
  },
  {
   "cell_type": "code",
   "execution_count": null,
   "id": "7530b487",
   "metadata": {},
   "outputs": [],
   "source": [
    "a = Vector([2,2])\n",
    "b = Vector([1,2])\n",
    "\n",
    "c = a-b\n",
    "print(c)\n",
    "\n",
    "c"
   ]
  },
  {
   "cell_type": "markdown",
   "id": "87da7375",
   "metadata": {},
   "source": [
    "### Zadanie 2\n",
    "\n",
    "Do wcześniej zaimplementowanej klasy dopisz funkcje pozwalające na porównanie wektorów za pomocą operatorów: `==`, `>=`, `<=`, `>`, `<`, `!=`. Porównanie ma zostać wykonane na poziomie elementów wektorów (_element wise_), poniżej przykład:\n",
    "\n",
    "```ipython\n",
    " In [1]: a = Vector([1, 2, 3]) \\\n",
    "    ...: b = Vector([3, 2, 1]) \\\n",
    "    ...: a <= b\n",
    "Out [1]: <Vector([True, True, False]) at 140185575662832>\n",
    "```"
   ]
  },
  {
   "cell_type": "code",
   "execution_count": null,
   "id": "3b99972a",
   "metadata": {},
   "outputs": [],
   "source": [
    "a = Vector([1, 2, 3])\n",
    "b = Vector([3, 2, 1])\n",
    "a >= b"
   ]
  },
  {
   "cell_type": "markdown",
   "id": "d8e9a446",
   "metadata": {},
   "source": [
    "### Zadanie 3\n",
    "\n",
    "Do klasy `Vector` dopisz funkcję umożliwiającą wyświetlenie wektora na wykresie (zaimplementuj wyświetlanie za pomocą biblioteki `matplotlib`. \n",
    "\n",
    "> **UWAGA**: Funkcja powinna działać tylko dla wektora o dwóch wymiarach (dwuelementowa lista) - wykres 2D i wyświetlać komunikat jeżeli wymiar jest inny.\n",
    "\n",
    "> Podpowiedź: możesz wykorzystać funkcję [matplotlib.pyplot.arrow](https://matplotlib.org/3.5.1/api/_as_gen/matplotlib.pyplot.arrow.html)"
   ]
  },
  {
   "cell_type": "code",
   "execution_count": null,
   "id": "c9f9de7b",
   "metadata": {},
   "outputs": [],
   "source": [
    "v = Vector([-11,2])\n",
    "v.plot()"
   ]
  },
  {
   "cell_type": "markdown",
   "id": "ebc3c411",
   "metadata": {},
   "source": [
    "### Zadanie 4\n",
    "\n",
    "Dodaj możliwość zastosowania obiektu klasy `Vector` jako klucza w słowniku. Np.:\n",
    "\n",
    "```python\n",
    "d = {\n",
    "    Vector([1, 2, 3]): 'Wektor 1',\n",
    "    Vector([2, 2, 3]): 'Wektor 2'\n",
    "}\n",
    "d[Vector([2, 2, 3])]\n",
    "```"
   ]
  },
  {
   "cell_type": "code",
   "execution_count": null,
   "id": "d1db2d39",
   "metadata": {},
   "outputs": [],
   "source": [
    "d = {\n",
    "    Vector([1, 2, 3]): 'Wektor 1',\n",
    "    Vector([2, 2, 3]): 'Wektor 2'\n",
    "}\n",
    "d[Vector([2, 2, 3])]"
   ]
  },
  {
   "cell_type": "markdown",
   "id": "8aec816a",
   "metadata": {},
   "source": [
    "### Zadanie 5\n",
    "\n",
    "Dodaj funkcjonalność:\n",
    "- dzielenia przez skalar (np. `Vector([2, 4]) / 2`),\n",
    "- mnożenia przez skalar (np. `Vector([2, 4]) * 2`).\n",
    "\n",
    "> Podpowiedź: Pamiętaj o obsłudze błędów."
   ]
  },
  {
   "cell_type": "code",
   "execution_count": null,
   "id": "2bb3d9bb",
   "metadata": {},
   "outputs": [],
   "source": [
    "print(Vector([2, 4]) / 2)\n",
    "print(Vector([2, 4]) * 2)"
   ]
  },
  {
   "cell_type": "code",
   "execution_count": null,
   "id": "533275d9",
   "metadata": {},
   "outputs": [],
   "source": []
  }
 ],
 "metadata": {
  "author": {
   "email": "robert.susik@p.lodz.pl",
   "name": "Robert Susik"
  },
  "kernelspec": {
   "display_name": "Python 3 (ipykernel)",
   "language": "python",
   "name": "python3"
  },
  "language_info": {
   "codemirror_mode": {
    "name": "ipython",
    "version": 3
   },
   "file_extension": ".py",
   "mimetype": "text/x-python",
   "name": "python",
   "nbconvert_exporter": "python",
   "pygments_lexer": "ipython3",
   "version": "3.10.2"
  },
  "toc": {
   "base_numbering": 1,
   "nav_menu": {},
   "number_sections": true,
   "sideBar": true,
   "skip_h1_title": false,
   "title_cell": "Table of Contents",
   "title_sidebar": "Contents",
   "toc_cell": false,
   "toc_position": {},
   "toc_section_display": true,
   "toc_window_display": false
  }
 },
 "nbformat": 4,
 "nbformat_minor": 5
}
