{
 "cells": [
  {
   "cell_type": "markdown",
   "id": "59b5dc28",
   "metadata": {},
   "source": [
    "# Algorytmika i matematyka uczenia maszynowego \n",
    "## Laboratorium 6\n"
   ]
  },
  {
   "cell_type": "markdown",
   "id": "ca4e7af2",
   "metadata": {},
   "source": [
    "### Zadanie 1\n",
    "\n",
    "Zaimplementuj symulację paradoksu Monty'ego Halla. Np. po 10 000 rozgrywek dla obu przypadków (kiedy gracz zostaje przy wybranej bramke oraz kiedy gracz zmienia wybór).\n",
    "Czy wnik symulacji jest zgodny z teorią? \n",
    "\n",
    "Z [Wikipedii](https://pl.wikipedia.org/wiki/Paradoks_Monty%E2%80%99ego_Halla):\n",
    "\n",
    "> Zawodnik stoi przed trzema zasłoniętymi bramkami. Za jedną z nich (za którą – wie to tylko prowadzący program) jest nagroda (umieszczana całkowicie losowo). Gracz wybiera jedną z bramek. Prowadzący program odsłania inną bramkę (co istotne – anonsując, że jest to bramka pusta), po czym proponuje graczowi zmianę wyboru. <br /><br />\n",
    "Intuicyjnie nie ma znaczenia, czy zawodnik pozostanie przy swoim wyborze, czy nie. Okazuje się jednak, że jest inaczej. Przy wyborze strategii pozostawania przy swoim pierwszym wyborze prawdopodobieństwo wygranej wynosi 1/3. Natomiast przy wyborze „strategii zmiany” wynosi 2/3. <br /><br />\n",
    "Oznacza to, że zawodnikowi opłaci się zmienić bramkę, ponieważ ma wtedy dwa razy większe szanse na wygraną. Paradoks wynika z niedocenienia informacji, jaką „między wierszami” przekazuje prowadzący. Informacją tą jest wskazanie pustej bramki. <br /><br />\n",
    "Innymi słowy poprzez otwarcie jednej z pustych bramek prowadzący zmniejsza liczność zbioru „pustych bramek”, a w rezultacie prawdopodobieństwo przegranej z 2/3 do 1/3. „Pozostałe” prawdopodobieństwo wygranej musi wynosić więc obecnie 2/3.\n",
    "<img width=\"200\" src=\"data:image/png;base64,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\" />\n",
    "\n",
    "\n"
   ]
  },
  {
   "cell_type": "code",
   "execution_count": 1,
   "id": "b999ffbc",
   "metadata": {},
   "outputs": [],
   "source": [
    "import numpy as np\n",
    "import random"
   ]
  },
  {
   "cell_type": "code",
   "execution_count": 2,
   "id": "b2cad3bb",
   "metadata": {},
   "outputs": [
    {
     "data": {
      "text/plain": [
       "array([False, False,  True])"
      ]
     },
     "execution_count": 2,
     "metadata": {},
     "output_type": "execute_result"
    }
   ],
   "source": [
    "default = np.array([True,False,False])\n",
    "np.random.shuffle(default)\n",
    "default"
   ]
  },
  {
   "cell_type": "code",
   "execution_count": 3,
   "id": "a7d18301",
   "metadata": {},
   "outputs": [
    {
     "name": "stdout",
     "output_type": "stream",
     "text": [
      "Nie zmieniając wyboru mamy: 0.34% szans na wygraną\n",
      "Zmieniając wyboru mamy: 0.66% szans na wygraną\n"
     ]
    }
   ],
   "source": [
    "# nie zmieniamy wyboru\n",
    "score = []\n",
    "iterations = 10_000\n",
    "for i in range(iterations):\n",
    "    np.random.shuffle(default)\n",
    "    game = np.copy(default)\n",
    "    doors1 = random.randint(0,2)\n",
    "    if game[doors1]:\n",
    "        score.append(True)\n",
    "    else:\n",
    "         score.append(False)\n",
    "            \n",
    "print(f'Nie zmieniając wyboru mamy: {np.count_nonzero(score)/len(score):.2f}% szans na wygraną')\n",
    "\n",
    "# zmieniając wybór\n",
    "score = []\n",
    "for i in range(iterations):\n",
    "    np.random.shuffle(default)\n",
    "    game = np.copy(default)\n",
    "    doors = [0,1,2]\n",
    "    doors1 = random.choice(doors)\n",
    "    \n",
    "    for i, d in enumerate(game):\n",
    "        if i != doors1:\n",
    "            if d != True:\n",
    "                if len(doors)>2:\n",
    "                    doors = np.delete(doors, i, 0)\n",
    "        \n",
    "    for d in doors:\n",
    "        if d != doors1:\n",
    "            if game[d]:\n",
    "                score.append(True)\n",
    "            else:\n",
    "                score.append(False)\n",
    "    \n",
    "            \n",
    "print(f'Zmieniając wyboru mamy: {np.count_nonzero(score)/len(score):.2f}% szans na wygraną')\n"
   ]
  },
  {
   "cell_type": "markdown",
   "id": "ec0f3d4a",
   "metadata": {},
   "source": [
    "### Zadanie 2\n",
    "\n",
    "#### A)\n",
    "Wczytaj z klawiatury $m$ liter (mogą się powtarzać), a następnie wypisz wszystkie permutacje tych $m$ liter, podkreślając te, które tworzą poprawne polskie słowa (na podstawie słownika ściągniętego i wypakowanego z https://sjp.pl/sl/growy/).\n",
    "\n",
    "Warunki:\n",
    "- W jednej linii należy wypisać 5 permutacji, po czym przejść do nowego wiersza.\n",
    "- Jeśli wprowadzony napis zawiera znaki spoza `[a-z]` (tylko litery łacińskie), to należy wypisać stosowny komunikat.\n",
    "- Wprowadzone litery mogą się powtarzać, ale permutacji wtedy nie powtarzamy. \n",
    "Przykładowo, dla wprowadzonego ciągu `aaab` program ma wypisać tylko 4 permutacje (w dowolnej kolejności): `aaab`, `aaba`, `abaa`, `baaa`.\n",
    "\n",
    "Przykład:\n",
    "\n",
    "```\n",
    "Podaj 4 litery z [a-z]: aatm\n",
    "aatm    aamt    atam    atma    amat\n",
    "\n",
    "amta    taam    tama    tmaa    maat\n",
    "                ----\n",
    "mata    mtaa\n",
    "----\n",
    "```\n",
    "\n",
    "#### B)\n",
    "Napisz wzór, który umożliwi wyświetlenie liczby tak opisanych permutacji bez konieczności ich generowania.\n",
    "\n"
   ]
  },
  {
   "cell_type": "code",
   "execution_count": 4,
   "id": "d75523c9",
   "metadata": {},
   "outputs": [],
   "source": [
    "my_file = open(\"slowa.txt\", encoding='UTF-8')\n",
    "data = my_file.read()\n",
    "words = data.replace('\\n', ' ').split(\" \")\n",
    "pl_words = set(words)\n",
    "my_file.close()\n"
   ]
  },
  {
   "cell_type": "code",
   "execution_count": 5,
   "id": "74809906",
   "metadata": {},
   "outputs": [],
   "source": [
    "def permute(string, i=0):\n",
    "    if i == len(string):  \n",
    "        permutations.append(\"\".join(string))\n",
    "    \n",
    "    for j in range(i, len(string)):\n",
    "        words = [c for c in string]\n",
    "        words[i], words[j] = words[j], words[i]\n",
    "        permute(words, i + 1)\n",
    "    "
   ]
  },
  {
   "cell_type": "code",
   "execution_count": 70,
   "id": "4b6ad4f7",
   "metadata": {},
   "outputs": [
    {
     "name": "stdout",
     "output_type": "stream",
     "text": [
      "Podaj litery: pies\n",
      "pies      pise      peis      pesi      psei      \n",
      "----                                              \n",
      "psie      ipes      ipse      ieps      iesp      \n",
      "----                                              \n",
      "isep      ispe      eips      eisp      epis      \n",
      "                                                  \n",
      "epsi      espi      esip      siep      sipe      \n",
      "                              ----                \n",
      "spie      spei      sepi      seip      \n",
      "----                                    "
     ]
    }
   ],
   "source": [
    "x = input('Podaj litery: ')\n",
    "if not x.isalpha():\n",
    "    print(\"Tylko litery\")\n",
    "else:\n",
    "    permutations= []\n",
    "    permute(x)\n",
    "\n",
    "\n",
    "    mydict = list( dict.fromkeys(permutations) )\n",
    "\n",
    "\n",
    "    full = int(len(mydict) /5)\n",
    "\n",
    "    under = []\n",
    "    for i,w in enumerate(mydict):\n",
    "        if w in pl_words:\n",
    "            under.append('-'*len(w))\n",
    "        else:\n",
    "            under.append('')\n",
    "\n",
    "    for i in range(full):\n",
    "        print(f'{mydict[0+i*5]:10}{mydict[1+i*5]:10}{mydict[2+i*5]:10}{mydict[3+i*5]:10}{mydict[4+i*5]:10}')\n",
    "        print(f'{under[0+i*5]:10}{under[1+i*5]:10}{under[2+i*5]:10}{under[3+i*5]:10}{under[4+i*5]:10}')\n",
    "\n",
    "    for i in range(len(mydict)-(full*5)):\n",
    "        print(f'{mydict[-i-1]:10}',end=\"\")\n",
    "    print()\n",
    "    for i in range(len(under)-(full*5)):\n",
    "        print(f'{under[-i-1]:10}',end=\"\")"
   ]
  },
  {
   "cell_type": "markdown",
   "id": "ff7e94d6",
   "metadata": {},
   "source": [
    "### Wzór \n",
    "$$\\frac{n!}{ka! * kb! *...*kz!}$$\n",
    "- n-liczba liter\n",
    "- ka-liczba wystąpień danej litery\n",
    "\n"
   ]
  },
  {
   "cell_type": "code",
   "execution_count": 71,
   "id": "d0b7831a",
   "metadata": {},
   "outputs": [
    {
     "data": {
      "text/plain": [
       "24"
      ]
     },
     "execution_count": 71,
     "metadata": {},
     "output_type": "execute_result"
    }
   ],
   "source": [
    "len(permutations)"
   ]
  },
  {
   "cell_type": "code",
   "execution_count": 72,
   "id": "f7092877",
   "metadata": {},
   "outputs": [
    {
     "data": {
      "text/plain": [
       "24"
      ]
     },
     "execution_count": 72,
     "metadata": {},
     "output_type": "execute_result"
    }
   ],
   "source": [
    "len(mydict)"
   ]
  },
  {
   "cell_type": "code",
   "execution_count": 2,
   "id": "0f9c4b94",
   "metadata": {},
   "outputs": [],
   "source": [
    "def silnia(n):\n",
    "    if n > 1:\n",
    "        return n*silnia(n-1)\n",
    "    return 1"
   ]
  },
  {
   "cell_type": "code",
   "execution_count": 3,
   "id": "b52e5785",
   "metadata": {},
   "outputs": [
    {
     "data": {
      "text/plain": [
       "24.0"
      ]
     },
     "execution_count": 3,
     "metadata": {},
     "output_type": "execute_result"
    }
   ],
   "source": [
    "silnia(4)/ silnia(1)*silnia(1)*silnia(1)*silnia(1)"
   ]
  },
  {
   "cell_type": "code",
   "execution_count": null,
   "id": "cfa58f01",
   "metadata": {},
   "outputs": [],
   "source": []
  }
 ],
 "metadata": {
  "author": {
   "email": "robert.susik@p.lodz.pl",
   "name": "Robert Susik"
  },
  "kernelspec": {
   "display_name": "Python 3 (ipykernel)",
   "language": "python",
   "name": "python3"
  },
  "language_info": {
   "codemirror_mode": {
    "name": "ipython",
    "version": 3
   },
   "file_extension": ".py",
   "mimetype": "text/x-python",
   "name": "python",
   "nbconvert_exporter": "python",
   "pygments_lexer": "ipython3",
   "version": "3.10.2"
  },
  "toc": {
   "base_numbering": 1,
   "nav_menu": {},
   "number_sections": true,
   "sideBar": true,
   "skip_h1_title": false,
   "title_cell": "Table of Contents",
   "title_sidebar": "Contents",
   "toc_cell": false,
   "toc_position": {},
   "toc_section_display": true,
   "toc_window_display": false
  }
 },
 "nbformat": 4,
 "nbformat_minor": 5
}
