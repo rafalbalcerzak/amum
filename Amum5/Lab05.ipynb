{
 "cells": [
  {
   "cell_type": "markdown",
   "id": "59b5dc28",
   "metadata": {},
   "source": [
    "# Algorytmika i matematyka uczenia maszynowego \n",
    "## Laboratorium 5\n",
    "\n",
    "Do wykonania laboratorium można skorzystać z bibliotek/modułów:\n",
    "- [numpy](https://numpy.org/)\n",
    "- [matplotlib](https://matplotlib.org/)\n",
    "- [pandas](https://pandas.pydata.org/)\n",
    "- [collections](https://docs.python.org/3/library/collections.html)\n"
   ]
  },
  {
   "cell_type": "markdown",
   "id": "ca4e7af2",
   "metadata": {},
   "source": [
    "### Zadanie 1\n",
    "\n",
    "Wczytaj plik `english.10MB`\n",
    "> Podpowiedź: Kodowanie `iso-8859-1`\n",
    "\n"
   ]
  },
  {
   "cell_type": "code",
   "execution_count": 1,
   "id": "4a2c30f3",
   "metadata": {},
   "outputs": [],
   "source": [
    "import collections"
   ]
  },
  {
   "cell_type": "code",
   "execution_count": 2,
   "id": "967f6b63",
   "metadata": {},
   "outputs": [
    {
     "name": "stdout",
     "output_type": "stream",
     "text": [
      "2029461\n"
     ]
    }
   ],
   "source": [
    "my_file = open(\"english.10mb\", encoding='iso-8859-1')\n",
    "data = my_file.read()\n",
    "\n",
    "data_into_list = data.replace('\\n', ' ').split(\" \")\n",
    "\n",
    "my_file.close()\n",
    "print(len(data_into_list))"
   ]
  },
  {
   "cell_type": "code",
   "execution_count": 3,
   "id": "bf035c25",
   "metadata": {},
   "outputs": [],
   "source": [
    "\n",
    "data = data.replace('\\n', ' ')\n",
    "                    "
   ]
  },
  {
   "cell_type": "code",
   "execution_count": null,
   "id": "2b6d300c",
   "metadata": {},
   "outputs": [],
   "source": []
  },
  {
   "cell_type": "markdown",
   "id": "8d2a3a0d",
   "metadata": {},
   "source": [
    "### Zadanie 2\n",
    "Zamień wszystkie litery na małe.\n"
   ]
  },
  {
   "cell_type": "code",
   "execution_count": 4,
   "id": "5d879322",
   "metadata": {},
   "outputs": [],
   "source": [
    "data = data.lower()\n"
   ]
  },
  {
   "cell_type": "markdown",
   "id": "cf5a110e",
   "metadata": {},
   "source": [
    "### Zadanie 3\n",
    "Znajdź unikalne litery (pomiń inne znaki) w tekście i dla każdej przypisz liczbę wystąpień, a następnie wyświetl histogram.\n",
    "\n",
    "Pytanie: Jaka litera występuje najczęściej?\n",
    "\n",
    "> Podpowiedź: `import string`\n"
   ]
  },
  {
   "cell_type": "code",
   "execution_count": 5,
   "id": "fa392fb1",
   "metadata": {},
   "outputs": [
    {
     "name": "stdout",
     "output_type": "stream",
     "text": [
      "a: 687143\n",
      "b: 116039\n",
      "c: 171074\n",
      "d: 391087\n",
      "e: 1001102\n",
      "f: 190105\n",
      "g: 149672\n",
      "h: 590005\n",
      "i: 532158\n",
      "j: 12678\n",
      "k: 71097\n",
      "l: 311298\n",
      "m: 211476\n",
      "n: 562896\n",
      "o: 569730\n",
      "p: 124510\n",
      "q: 8304\n",
      "r: 453054\n",
      "s: 494323\n",
      "t: 713888\n",
      "u: 203343\n",
      "v: 70530\n",
      "w: 191303\n",
      "x: 9636\n",
      "y: 141607\n",
      "z: 11132\n"
     ]
    }
   ],
   "source": [
    "import string\n",
    "letters = string.ascii_lowercase\n",
    "\n",
    "counter = {}\n",
    "for i in letters:\n",
    "    count = data.count(i)\n",
    "    counter[i] = count \n",
    "\n",
    "\n",
    "for let in counter:\n",
    "    print(f'{let}: {counter[let]}')"
   ]
  },
  {
   "cell_type": "code",
   "execution_count": 6,
   "id": "acae69be",
   "metadata": {},
   "outputs": [
    {
     "data": {
      "text/plain": [
       "<BarContainer object of 26 artists>"
      ]
     },
     "execution_count": 6,
     "metadata": {},
     "output_type": "execute_result"
    },
    {
     "data": {
      "image/png": "[encoded data removed]",
      "text/plain": [
       "<Figure size 1080x504 with 1 Axes>"
      ]
     },
     "metadata": {
      "needs_background": "light"
     },
     "output_type": "display_data"
    }
   ],
   "source": [
    "import matplotlib.pyplot as plt\n",
    "plt.figure(figsize=(15,7))\n",
    "plt.bar(list(counter.keys()), counter.values(), color='g', width=.5)"
   ]
  },
  {
   "cell_type": "markdown",
   "id": "5e248f98",
   "metadata": {},
   "source": [
    "### Zadanie 4\n",
    "\n",
    "Napisz funkcję, która dla podanego prefiksu (ciąg liter, np. `th` to prefiks o długości 2) zwróci listę maksymalnie pięciu liter, które mają największe prawdopodobieństwo wystąpienia po nim.\n",
    "\n",
    "```python\n",
    "In : nast('th', s) # th - prefiks, s - tekst\n",
    "Out: ['e', 'a', 'i', 'o', 'y']\n",
    "```\n",
    "\n"
   ]
  },
  {
   "cell_type": "code",
   "execution_count": 7,
   "id": "35190cc7",
   "metadata": {},
   "outputs": [
    {
     "data": {
      "text/plain": [
       "[]"
      ]
     },
     "execution_count": 7,
     "metadata": {},
     "output_type": "execute_result"
    }
   ],
   "source": [
    "def nast(th, s):\n",
    "    words = s.split(' ')\n",
    "    words = list(filter(None, words))\n",
    "    \n",
    "    with_prefix = [x for x in words if x.startswith(th)]\n",
    "    \n",
    "    no_prefix= []\n",
    "    for i in range(len(with_prefix)):\n",
    "        no_prefix.append(with_prefix[i].removeprefix(th))\n",
    "    \n",
    "    let = ''\n",
    "    for word in no_prefix:\n",
    "        try:\n",
    "            let += word[0]\n",
    "        except IndexError:\n",
    "            pass\n",
    "        \n",
    "    counter = {}\n",
    "    for i in letters:\n",
    "        count = let.count(i)\n",
    "        counter[i] = count \n",
    "        \n",
    "    sorted_counter={}\n",
    "    sorted_counter= sorted(counter.items(), key=lambda x: x[1])\n",
    "    \n",
    "    lett = []\n",
    "    for i in range(5):\n",
    "        if sorted_counter[-i-1][1] > 0:\n",
    "            lett.append(sorted_counter[-i-1][0])\n",
    "    \n",
    "    return  lett\n",
    "\n",
    "a = nast('they', data)\n",
    "a"
   ]
  },
  {
   "cell_type": "markdown",
   "id": "c2a193ff",
   "metadata": {},
   "source": [
    "### Zadanie 5\n",
    "\n",
    "Napisz kod, który wczytuje kolejne znaki od użytkownika i podpowiada następne możliwe litery (maksymalnie pięć). Wykorzystaj funkcję zaimplementowaną w poprzednim zadaniu.\n",
    "\n",
    "> Podpowiedź: Możesz wykorzystać funkcję `input()` do wczytywania znaków.\n",
    "\n",
    "Przykład działania:\n",
    "```\n",
    "Nacisnij <ENTER> aby zakonczyc.\n",
    "Podaj litere: f\n",
    "Podaj kolejną literę (możliwe: ['o', 'a', 'r', 'e', 'i']): fo\n",
    "Podaj kolejną literę (możliwe: ['r', 'u', 'l', 'o', 'x']): for\n",
    "Podaj kolejną literę (możliwe: ['e', 't', 'm', 'g', 'c']): fore\n",
    "Podaj kolejną literę (możliwe: ['s', 'h', 'i', 'g', 'v']): fores\n",
    "Podaj kolejną literę (możliwe: ['t', 'a', 'e', 'i', 'k']): forest\n",
    "Podaj kolejną literę (możliwe: ['s', 'a']): forests\n",
    "```"
   ]
  },
  {
   "cell_type": "code",
   "execution_count": 8,
   "id": "3d6e24d2",
   "metadata": {},
   "outputs": [
    {
     "name": "stdout",
     "output_type": "stream",
     "text": [
      "Podaj litere: t\n",
      "Podaj kolejną literę (możliwe: ['h', 'o', 'r', 'i', 'a']: th\n",
      "Podaj kolejną literę (możliwe: ['e', 'a', 'i', 'o', 'y']: the\n",
      "Podaj kolejną literę (możliwe: ['y', 'm', 'e', 'n', 'r']: they\n"
     ]
    }
   ],
   "source": [
    "x = input('Podaj litere: ')\n",
    "while len(nast(x,data))>0:\n",
    "    x = x + input('Podaj kolejną literę (możliwe: ' + str(nast(x,data))+': '+x)\n"
   ]
  },
  {
   "cell_type": "markdown",
   "id": "18515c1d",
   "metadata": {},
   "source": [
    "\n",
    "### Zadanie 6\n",
    "\n",
    "Wykonaj zadanie podobne do zad. 6, ale na poziomie słów. Dla ułatwienia słowa można wybierać z listy za pomocą liczb 1-5."
   ]
  },
  {
   "cell_type": "code",
   "execution_count": 9,
   "id": "3ad6d8d9",
   "metadata": {},
   "outputs": [
    {
     "name": "stdout",
     "output_type": "stream",
     "text": [
      "['were', 'had', 'are', 'came', 'will']\n"
     ]
    }
   ],
   "source": [
    "def nextword(w, s):\n",
    "    words = s.split(' ')\n",
    "    words = list(filter(None, words))\n",
    "    indices = [i for i, x in enumerate(words) if x == w]\n",
    "    \n",
    "    nextw = []\n",
    "    for i in indices:\n",
    "        nextw.append(words[i+1])\n",
    "    \n",
    "    counter = {}\n",
    "    for w in nextw :\n",
    "        count = nextw.count(w)\n",
    "        counter[w] = count \n",
    "    \n",
    "    sorted_counter={}\n",
    "    sorted_counter= sorted(counter.items(), key=lambda x: x[1])\n",
    "    \n",
    "    most = []\n",
    "    for i in range(5):\n",
    "        if sorted_counter[-i-1][1] > 0:\n",
    "            most.append(sorted_counter[-i-1][0])\n",
    "\n",
    "\n",
    "    return most\n",
    "\n",
    "a = nextword('they', data)\n",
    "print(a)\n"
   ]
  },
  {
   "cell_type": "code",
   "execution_count": 10,
   "id": "87320361",
   "metadata": {},
   "outputs": [
    {
     "name": "stdout",
     "output_type": "stream",
     "text": [
      "Podaj słowo: they\n",
      "Podaj numer kolejnego słowa (możliwe: ['were', 'had', 'are', 'came', 'will']: they4\n",
      "Podaj numer kolejnego słowa (możliwe: ['to', 'up', 'in', 'out', 'the']: they came4\n",
      "Podaj numer kolejnego słowa (możliwe: ['of', 'to', 'and', 'the', 'with']: they came out1\n"
     ]
    },
    {
     "ename": "KeyboardInterrupt",
     "evalue": "Interrupted by user",
     "output_type": "error",
     "traceback": [
      "\u001b[1;31m---------------------------------------------------------------------------\u001b[0m",
      "\u001b[1;31mKeyboardInterrupt\u001b[0m                         Traceback (most recent call last)",
      "Input \u001b[1;32mIn [10]\u001b[0m, in \u001b[0;36m<cell line: 6>\u001b[1;34m()\u001b[0m\n\u001b[0;32m      4\u001b[0m string \u001b[38;5;241m=\u001b[39m x\n\u001b[0;32m      6\u001b[0m \u001b[38;5;28;01mwhile\u001b[39;00m \u001b[38;5;28mlen\u001b[39m(y)\u001b[38;5;241m>\u001b[39m\u001b[38;5;241m0\u001b[39m:\n\u001b[1;32m----> 7\u001b[0m     x \u001b[38;5;241m=\u001b[39m \u001b[38;5;28;43minput\u001b[39;49m\u001b[43m(\u001b[49m\u001b[38;5;124;43m'\u001b[39;49m\u001b[38;5;124;43mPodaj numer kolejnego słowa (możliwe: \u001b[39;49m\u001b[38;5;124;43m'\u001b[39;49m\u001b[43m \u001b[49m\u001b[38;5;241;43m+\u001b[39;49m\u001b[43m \u001b[49m\u001b[38;5;28;43mstr\u001b[39;49m\u001b[43m(\u001b[49m\u001b[43my\u001b[49m\u001b[43m)\u001b[49m\u001b[38;5;241;43m+\u001b[39;49m\u001b[38;5;124;43m'\u001b[39;49m\u001b[38;5;124;43m: \u001b[39;49m\u001b[38;5;124;43m'\u001b[39;49m\u001b[38;5;241;43m+\u001b[39;49m\u001b[43mstring\u001b[49m\u001b[43m)\u001b[49m\n\u001b[0;32m      8\u001b[0m     x \u001b[38;5;241m=\u001b[39m y[\u001b[38;5;28mint\u001b[39m(x)\u001b[38;5;241m-\u001b[39m\u001b[38;5;241m1\u001b[39m]\n\u001b[0;32m      9\u001b[0m     string \u001b[38;5;241m+\u001b[39m\u001b[38;5;241m=\u001b[39m \u001b[38;5;124m'\u001b[39m\u001b[38;5;124m \u001b[39m\u001b[38;5;124m'\u001b[39m\n",
      "File \u001b[1;32mc:\\python\\python39\\lib\\site-packages\\ipykernel\\kernelbase.py:1075\u001b[0m, in \u001b[0;36mKernel.raw_input\u001b[1;34m(self, prompt)\u001b[0m\n\u001b[0;32m   1071\u001b[0m \u001b[38;5;28;01mif\u001b[39;00m \u001b[38;5;129;01mnot\u001b[39;00m \u001b[38;5;28mself\u001b[39m\u001b[38;5;241m.\u001b[39m_allow_stdin:\n\u001b[0;32m   1072\u001b[0m     \u001b[38;5;28;01mraise\u001b[39;00m StdinNotImplementedError(\n\u001b[0;32m   1073\u001b[0m         \u001b[38;5;124m\"\u001b[39m\u001b[38;5;124mraw_input was called, but this frontend does not support input requests.\u001b[39m\u001b[38;5;124m\"\u001b[39m\n\u001b[0;32m   1074\u001b[0m     )\n\u001b[1;32m-> 1075\u001b[0m \u001b[38;5;28;01mreturn\u001b[39;00m \u001b[38;5;28;43mself\u001b[39;49m\u001b[38;5;241;43m.\u001b[39;49m\u001b[43m_input_request\u001b[49m\u001b[43m(\u001b[49m\n\u001b[0;32m   1076\u001b[0m \u001b[43m    \u001b[49m\u001b[38;5;28;43mstr\u001b[39;49m\u001b[43m(\u001b[49m\u001b[43mprompt\u001b[49m\u001b[43m)\u001b[49m\u001b[43m,\u001b[49m\n\u001b[0;32m   1077\u001b[0m \u001b[43m    \u001b[49m\u001b[38;5;28;43mself\u001b[39;49m\u001b[38;5;241;43m.\u001b[39;49m\u001b[43m_parent_ident\u001b[49m\u001b[43m[\u001b[49m\u001b[38;5;124;43m\"\u001b[39;49m\u001b[38;5;124;43mshell\u001b[39;49m\u001b[38;5;124;43m\"\u001b[39;49m\u001b[43m]\u001b[49m\u001b[43m,\u001b[49m\n\u001b[0;32m   1078\u001b[0m \u001b[43m    \u001b[49m\u001b[38;5;28;43mself\u001b[39;49m\u001b[38;5;241;43m.\u001b[39;49m\u001b[43mget_parent\u001b[49m\u001b[43m(\u001b[49m\u001b[38;5;124;43m\"\u001b[39;49m\u001b[38;5;124;43mshell\u001b[39;49m\u001b[38;5;124;43m\"\u001b[39;49m\u001b[43m)\u001b[49m\u001b[43m,\u001b[49m\n\u001b[0;32m   1079\u001b[0m \u001b[43m    \u001b[49m\u001b[43mpassword\u001b[49m\u001b[38;5;241;43m=\u001b[39;49m\u001b[38;5;28;43;01mFalse\u001b[39;49;00m\u001b[43m,\u001b[49m\n\u001b[0;32m   1080\u001b[0m \u001b[43m\u001b[49m\u001b[43m)\u001b[49m\n",
      "File \u001b[1;32mc:\\python\\python39\\lib\\site-packages\\ipykernel\\kernelbase.py:1120\u001b[0m, in \u001b[0;36mKernel._input_request\u001b[1;34m(self, prompt, ident, parent, password)\u001b[0m\n\u001b[0;32m   1117\u001b[0m             \u001b[38;5;28;01mbreak\u001b[39;00m\n\u001b[0;32m   1118\u001b[0m \u001b[38;5;28;01mexcept\u001b[39;00m \u001b[38;5;167;01mKeyboardInterrupt\u001b[39;00m:\n\u001b[0;32m   1119\u001b[0m     \u001b[38;5;66;03m# re-raise KeyboardInterrupt, to truncate traceback\u001b[39;00m\n\u001b[1;32m-> 1120\u001b[0m     \u001b[38;5;28;01mraise\u001b[39;00m \u001b[38;5;167;01mKeyboardInterrupt\u001b[39;00m(\u001b[38;5;124m\"\u001b[39m\u001b[38;5;124mInterrupted by user\u001b[39m\u001b[38;5;124m\"\u001b[39m) \u001b[38;5;28;01mfrom\u001b[39;00m \u001b[38;5;28mNone\u001b[39m\n\u001b[0;32m   1121\u001b[0m \u001b[38;5;28;01mexcept\u001b[39;00m \u001b[38;5;167;01mException\u001b[39;00m:\n\u001b[0;32m   1122\u001b[0m     \u001b[38;5;28mself\u001b[39m\u001b[38;5;241m.\u001b[39mlog\u001b[38;5;241m.\u001b[39mwarning(\u001b[38;5;124m\"\u001b[39m\u001b[38;5;124mInvalid Message:\u001b[39m\u001b[38;5;124m\"\u001b[39m, exc_info\u001b[38;5;241m=\u001b[39m\u001b[38;5;28;01mTrue\u001b[39;00m)\n",
      "\u001b[1;31mKeyboardInterrupt\u001b[0m: Interrupted by user"
     ]
    }
   ],
   "source": [
    "x = input('Podaj słowo: ')\n",
    "y = nextword(x,data)\n",
    "\n",
    "string = x\n",
    "\n",
    "while len(y)>0:\n",
    "    x = input('Podaj numer kolejnego słowa (możliwe: ' + str(y)+': '+string)\n",
    "    x = y[int(x)-1]\n",
    "    string += ' '\n",
    "    string += x\n",
    "    y = nextword(x,data)"
   ]
  },
  {
   "cell_type": "code",
   "execution_count": null,
   "id": "1454283c",
   "metadata": {},
   "outputs": [],
   "source": []
  }
 ],
 "metadata": {
  "author": {
   "email": "robert.susik@p.lodz.pl",
   "name": "Robert Susik"
  },
  "kernelspec": {
   "display_name": "Python 3 (ipykernel)",
   "language": "python",
   "name": "python3"
  },
  "language_info": {
   "codemirror_mode": {
    "name": "ipython",
    "version": 3
   },
   "file_extension": ".py",
   "mimetype": "text/x-python",
   "name": "python",
   "nbconvert_exporter": "python",
   "pygments_lexer": "ipython3",
   "version": "3.10.2"
  },
  "toc": {
   "base_numbering": 1,
   "nav_menu": {},
   "number_sections": true,
   "sideBar": true,
   "skip_h1_title": false,
   "title_cell": "Table of Contents",
   "title_sidebar": "Contents",
   "toc_cell": false,
   "toc_position": {},
   "toc_section_display": true,
   "toc_window_display": false
  }
 },
 "nbformat": 4,
 "nbformat_minor": 5
}
