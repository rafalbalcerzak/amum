{
 "cells": [
  {
   "cell_type": "markdown",
   "id": "59b5dc28",
   "metadata": {},
   "source": [
    "# Algorytmika i matematyka uczenia maszynowego \n",
    "## Laboratorium 7\n"
   ]
  },
  {
   "cell_type": "markdown",
   "id": "01f97ff3",
   "metadata": {},
   "source": [
    "### Zadanie 1\n",
    "\n",
    "Z miasta A do miasta B kierowca przejechał ze średnią szybkością 60 km/h. Z powrotem jechał szybciej, ze średnią 80 km/h. Jaka była jego średnia szybkość na całej trasie? \n",
    "\n",
    "**Uwaga:** nie używaj gotowych implementacji.\n",
    "\n",
    "> Wskazówka: średnia harmoniczna."
   ]
  },
  {
   "cell_type": "code",
   "execution_count": 1,
   "id": "b7313777",
   "metadata": {},
   "outputs": [
    {
     "data": {
      "text/plain": [
       "68.57142857142857"
      ]
     },
     "execution_count": 1,
     "metadata": {},
     "output_type": "execute_result"
    }
   ],
   "source": [
    "((60**-1 + 80**-1)/2)**-1\n"
   ]
  },
  {
   "cell_type": "markdown",
   "id": "ca4e7af2",
   "metadata": {},
   "source": [
    "### Zadanie 2\n",
    "\n",
    "Wyobraźmy sobie miasto o liczbie 700 tys. mieszkańców. W mieście pojawiła się choroba i wiemy, że jedna osoba na 1000 zachorowała. Nie wiemy, które to dokładnie osoby, ale jest dostępny test, którego skuteczność wynosi 99%. Teraz wcielamy się w pacjenta, który przeprowadził test, a wynik testu jest pozytywny. Chcemy dowiedzieć się, jakie jest prawdopodobieństwo, że zachorowaliśmy.\n",
    "\n",
    "#### A)\n",
    "\n",
    "Przeprowadzić symulację komputerową:\n",
    "\n",
    "- Generujemy listę wielkości 700 tys.\n",
    "- Losowo wybieramy 700 tys./1000 (bo jedna na 1000 osob zachorowała) osób i zaznaczamy je jako chore.\n",
    "- Wybieramy losowo po 1% osob chorych i zdrowych, a następnie zaznaczamy ich diagnoze na nieprawidlowa (bo skutecznosc testu wynosi 99%).\n",
    "- Oblicz jakie jest prawdopodobienstwo ze osoba z pozytywnym wynikiem testu jest faktycznie chora (`liczba osób chorych z wynikiem pozytywnym` / `liczba wszystkich osob z wynikiem pozytywnym`).\n",
    "\n"
   ]
  },
  {
   "cell_type": "code",
   "execution_count": 2,
   "id": "0fea1c5d",
   "metadata": {},
   "outputs": [],
   "source": [
    "import numpy as np\n",
    "\n"
   ]
  },
  {
   "cell_type": "raw",
   "id": "a20c6629",
   "metadata": {},
   "source": [
    "p = np.zeros([700_000,2])\n",
    "# 700 chorych i oznaczonych jako chorzy\n",
    "p[0:699,0] = 1\n",
    "p[0:699,1] = 1\n",
    "# 1% chorych jako zdrowi \n",
    "p[0:6,1] = 0\n",
    "\n",
    "# 1% zdrowych jako chorzy\n",
    "prc =  int(700 + (700_000-700) *0.01)\n",
    "p[700:prc,1] = 1\n",
    "\n",
    "# liczba osób chorych z wynikiem pozytywnym\n",
    "cp  =[]\n",
    "[cp.append(row) for row in p if row[0]==1 and row[1]==1]\n",
    "\n",
    "\n",
    "# liczba wszystkich osob z wynikiem pozytywnym\n",
    "ap = []\n",
    "[ap.append(row) for row in p if row[1]==1]\n",
    "\n",
    "len(cp)/len(ap)"
   ]
  },
  {
   "cell_type": "code",
   "execution_count": 3,
   "id": "cc6ecfb8",
   "metadata": {},
   "outputs": [
    {
     "data": {
      "text/plain": [
       "0.09016393442622951"
      ]
     },
     "execution_count": 3,
     "metadata": {},
     "output_type": "execute_result"
    }
   ],
   "source": [
    "def sim(count, ch, sk):\n",
    "    p = np.zeros([700_000,2])\n",
    "    # 700 chorych i oznaczonych jako chorzy\n",
    "    p[0:ch-1,0] = 1\n",
    "    p[0:ch-1,1] = 1\n",
    "    # 1% chorych jako zdrowi \n",
    "    p[0:int(ch*0.01)-1,1] = 0\n",
    "\n",
    "    # 1% zdrowych jako chorzy\n",
    "    prc =  int(ch + (count-ch) *(1-sk))\n",
    "    p[ch:prc,1] = 1\n",
    "\n",
    "    # liczba osób chorych z wynikiem pozytywnym\n",
    "    cp  =[]\n",
    "    [cp.append(row) for row in p if row[0]==1 and row[1]==1]\n",
    "\n",
    "\n",
    "    # liczba wszystkich osob z wynikiem pozytywnym\n",
    "    ap = []\n",
    "    [ap.append(row) for row in p if row[1]==1]\n",
    "\n",
    "    return len(cp)/len(ap)\n",
    "\n",
    "sim(700_000, 700, 0.99)"
   ]
  },
  {
   "cell_type": "markdown",
   "id": "46aa035b",
   "metadata": {},
   "source": [
    "#### B)\n",
    "\n",
    "Napisać funkcję, która zwróci wynik obliczony ze wzoru Bayesa. Zmierz i porównaj czas obliczeń w zad. A i zad. B\n",
    "\n"
   ]
  },
  {
   "cell_type": "raw",
   "id": "d77bcf76",
   "metadata": {},
   "source": [
    "             poz 0.99   to\n",
    "z    0.001   neg 0.01\n",
    "1 \n",
    "ch   0,999   poz 0.01   to\n",
    "             neg 0.99\n",
    "    \n",
    "0.001 * 0.99\n",
    "----------------------------\n",
    "0.001 * 0.99 + 0.999 * 0.01"
   ]
  },
  {
   "cell_type": "code",
   "execution_count": 4,
   "id": "dce9b646",
   "metadata": {},
   "outputs": [
    {
     "data": {
      "text/plain": [
       "0.09016393442622944"
      ]
     },
     "execution_count": 4,
     "metadata": {},
     "output_type": "execute_result"
    }
   ],
   "source": [
    "def bayes(z,s):\n",
    "    return (z*s)/(z*s+(1-z)*(1-s))\n",
    "\n",
    "bayes(0.001, 0.99)\n",
    "    "
   ]
  },
  {
   "cell_type": "code",
   "execution_count": 5,
   "id": "5caaa5e6",
   "metadata": {},
   "outputs": [
    {
     "name": "stdout",
     "output_type": "stream",
     "text": [
      "Czas sumulacji:0.4363556s, Czas ze wzoru bayesa:0.0000056s\n"
     ]
    }
   ],
   "source": [
    "import time\n",
    "\n",
    "sim_time = time.perf_counter()\n",
    "for i in range(10):\n",
    "    sim(700_000, 700, 0.99)\n",
    "sim_time = (time.perf_counter() - sim_time)/10\n",
    "\n",
    "ba_time = time.perf_counter()\n",
    "for i in range(10):\n",
    "    bayes(0.001, 0.99)\n",
    "ba_time = (time.perf_counter() - ba_time)/10\n",
    "\n",
    "print(f'Czas sumulacji:{sim_time:0.7f}s, Czas ze wzoru bayesa:{ba_time:0.7f}s')"
   ]
  },
  {
   "cell_type": "markdown",
   "id": "2850f724",
   "metadata": {},
   "source": [
    "#### C)\n",
    "\n",
    "Wyświetl wykres, gdzie na osi X znajduje się _czułość testu_ a na osi Y znajduje się _prawdopodobieństwo, że osoba z pozytywnym wynikiem jest chora_."
   ]
  },
  {
   "cell_type": "code",
   "execution_count": 6,
   "id": "7359c283",
   "metadata": {},
   "outputs": [
    {
     "data": {
      "text/plain": [
       "Text(0, 0.5, 'Prawdopodobieństwo')"
      ]
     },
     "execution_count": 6,
     "metadata": {},
     "output_type": "execute_result"
    },
    {
     "data": {
      "image/png": "[encoded data removed]",
      "text/plain": [
       "<Figure size 432x288 with 1 Axes>"
      ]
     },
     "metadata": {
      "needs_background": "light"
     },
     "output_type": "display_data"
    }
   ],
   "source": [
    "# Oblicz jakie jest prawdopodobienstwo ze osoba z pozytywnym wynikiem testu jest faktycznie chora \n",
    "x = np.arange(0.9,1,0.001)\n",
    "y = []\n",
    "[y.append(bayes(0.001, a)) for a in x]\n",
    "\n",
    "import matplotlib.pyplot as plt\n",
    "plt.plot(x,y)\n",
    "#plt.yscale('log')\n",
    "plt.xlabel('Skuteczność testu')\n",
    "plt.ylabel('Prawdopodobieństwo')"
   ]
  },
  {
   "cell_type": "markdown",
   "id": "2b0253f8",
   "metadata": {},
   "source": [
    "### Zadanie 3\n",
    "\n",
    "Sprawdź (symulacją) jak często trafia się \"ręka\" zawierająca $\\ge 8$ kart w jednym kolorze z 13 kart. Czyli losujemy 13 kart z 52 (wiec \"ręki\" jak w brydzu) tak długo, aż w jakimś kolorze dostaniemy $\\ge 8$ kart. Przeprowadź 1000 takich prob i oblicz średnią. Dodatkowo wypisz jedną (np. ostatnią) taką wylosowaną rękę."
   ]
  },
  {
   "cell_type": "code",
   "execution_count": 7,
   "id": "75f6835c",
   "metadata": {},
   "outputs": [],
   "source": [
    "def losowanie():\n",
    "    reka = np.random.choice(talia, size=13, replace=False)\n",
    "    kier = pik = trefl = karo = 0\n",
    "    for karta in reka:\n",
    "        if karta.startswith('kier'):\n",
    "            kier += 1\n",
    "        elif karta.startswith('karo'):\n",
    "            karo += 1\n",
    "        elif karta.startswith('pik'):\n",
    "            pik += 1\n",
    "        else:\n",
    "            trefl +=1\n",
    "    return karo, kier, pik, trefl"
   ]
  },
  {
   "cell_type": "code",
   "execution_count": 23,
   "id": "c7212d11",
   "metadata": {},
   "outputs": [],
   "source": [
    "kolor = np.arange(1,14,1)\n",
    "kolory = ['karo','pik','trefl','kier']\n",
    "talia =[]\n",
    "for k in kolory:\n",
    "    for v in kolor:\n",
    "        talia.append(k +' '+ str(v))\n",
    "\n",
    "wyniki =[]\n",
    "\n",
    "for i in range(1000):\n",
    "    a=0\n",
    "    karo= kier= pik= trefl = 0\n",
    "    while not(kier>=8 or trefl>=8 or pik>=8 or karo>=8):\n",
    "        a+=1\n",
    "        reka = np.random.choice(talia, size=13, replace=False)\n",
    "        kier = pik = trefl = karo = 0\n",
    "        for karta in reka:\n",
    "            if karta.startswith('kier'):\n",
    "                kier += 1\n",
    "            elif karta.startswith('karo'):\n",
    "                karo += 1\n",
    "            elif karta.startswith('pik'):\n",
    "                pik += 1\n",
    "            else:\n",
    "                trefl +=1\n",
    "    wyniki.append(a)"
   ]
  },
  {
   "cell_type": "code",
   "execution_count": 21,
   "id": "2b9de229",
   "metadata": {},
   "outputs": [
    {
     "name": "stdout",
     "output_type": "stream",
     "text": [
      "Prawdopodobieństwo: 0.10%\n"
     ]
    }
   ],
   "source": [
    "print(f'Prawdopodobieństwo: {(sum(wyniki)/len(wyniki))/sum(wyniki):0.2%}')"
   ]
  },
  {
   "cell_type": "code",
   "execution_count": 24,
   "id": "689dd356",
   "metadata": {},
   "outputs": [
    {
     "name": "stdout",
     "output_type": "stream",
     "text": [
      "Ostatnia ręka:\n",
      "kier 3\n",
      "pik 10\n",
      "kier 4\n",
      "karo 12\n",
      "kier 8\n",
      "kier 1\n",
      "trefl 11\n",
      "trefl 10\n",
      "kier 9\n",
      "kier 12\n",
      "trefl 2\n",
      "kier 10\n",
      "kier 2\n"
     ]
    },
    {
     "data": {
      "text/plain": [
       "[None, None, None, None, None, None, None, None, None, None, None, None, None]"
      ]
     },
     "execution_count": 24,
     "metadata": {},
     "output_type": "execute_result"
    }
   ],
   "source": [
    "print('Ostatnia ręka:')\n",
    "[print(k) for k in reka] "
   ]
  }
 ],
 "metadata": {
  "author": {
   "email": "robert.susik@p.lodz.pl",
   "name": "Robert Susik"
  },
  "kernelspec": {
   "display_name": "Python 3 (ipykernel)",
   "language": "python",
   "name": "python3"
  },
  "language_info": {
   "codemirror_mode": {
    "name": "ipython",
    "version": 3
   },
   "file_extension": ".py",
   "mimetype": "text/x-python",
   "name": "python",
   "nbconvert_exporter": "python",
   "pygments_lexer": "ipython3",
   "version": "3.9.0"
  },
  "toc": {
   "base_numbering": 1,
   "nav_menu": {},
   "number_sections": true,
   "sideBar": true,
   "skip_h1_title": false,
   "title_cell": "Table of Contents",
   "title_sidebar": "Contents",
   "toc_cell": false,
   "toc_position": {},
   "toc_section_display": true,
   "toc_window_display": false
  }
 },
 "nbformat": 4,
 "nbformat_minor": 5
}
