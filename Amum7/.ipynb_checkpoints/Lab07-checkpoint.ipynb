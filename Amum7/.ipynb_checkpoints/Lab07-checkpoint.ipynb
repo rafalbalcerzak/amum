{
 "cells": [
  {
   "cell_type": "markdown",
   "id": "59b5dc28",
   "metadata": {},
   "source": [
    "# Algorytmika i matematyka uczenia maszynowego \n",
    "## Laboratorium 7\n"
   ]
  },
  {
   "cell_type": "markdown",
   "id": "01f97ff3",
   "metadata": {},
   "source": [
    "### Zadanie 1\n",
    "\n",
    "Z miasta A do miasta B kierowca przejechał ze średnią szybkością 60 km/h. Z powrotem jechał szybciej, ze średnią 80 km/h. Jaka była jego średnia szybkość na całej trasie? \n",
    "\n",
    "**Uwaga:** nie używaj gotowych implementacji.\n",
    "\n",
    "> Wskazówka: średnia harmoniczna."
   ]
  },
  {
   "cell_type": "code",
   "execution_count": 2,
   "id": "b7313777",
   "metadata": {},
   "outputs": [
    {
     "data": {
      "text/plain": [
       "68.57142857142857"
      ]
     },
     "execution_count": 2,
     "metadata": {},
     "output_type": "execute_result"
    }
   ],
   "source": [
    "((60**-1 + 80**-1)/2)**-1\n"
   ]
  },
  {
   "cell_type": "markdown",
   "id": "ca4e7af2",
   "metadata": {},
   "source": [
    "### Zadanie 2\n",
    "\n",
    "Wyobraźmy sobie miasto o liczbie 700 tys. mieszkańców. W mieście pojawiła się choroba i wiemy, że jedna osoba na 1000 zachorowała. Nie wiemy, które to dokładnie osoby, ale jest dostępny test, którego skuteczność wynosi 99%. Teraz wcielamy się w pacjenta, który przeprowadził test, a wynik testu jest pozytywny. Chcemy dowiedzieć się, jakie jest prawdopodobieństwo, że zachorowaliśmy.\n",
    "\n",
    "#### A)\n",
    "\n",
    "Przeprowadzić symulację komputerową:\n",
    "\n",
    "- Generujemy listę wielkości 700 tys.\n",
    "- Losowo wybieramy 700 tys./1000 (bo jedna na 1000 osob zachorowała) osób i zaznaczamy je jako chore.\n",
    "- Wybieramy losowo po 1% osob chorych i zdrowych, a następnie zaznaczamy ich diagnoze na nieprawidlowa (bo skutecznosc testu wynosi 99%).\n",
    "- Oblicz jakie jest prawdopodobienstwo ze osoba z pozytywnym wynikiem testu jest faktycznie chora (`liczba osób chorych z wynikiem pozytywnym` / `liczba wszystkich osob z wynikiem pozytywnym`).\n",
    "\n"
   ]
  },
  {
   "cell_type": "code",
   "execution_count": 41,
   "id": "0fea1c5d",
   "metadata": {},
   "outputs": [],
   "source": [
    "import numpy as np\n",
    "\n"
   ]
  },
  {
   "cell_type": "raw",
   "id": "a20c6629",
   "metadata": {},
   "source": [
    "p = np.zeros([700_000,2])\n",
    "# 700 chorych i oznaczonych jako chorzy\n",
    "p[0:699,0] = 1\n",
    "p[0:699,1] = 1\n",
    "# 1% chorych jako zdrowi \n",
    "p[0:6,1] = 0\n",
    "\n",
    "# 1% zdrowych jako chorzy\n",
    "prc =  int(700 + (700_000-700) *0.01)\n",
    "p[700:prc,1] = 1\n",
    "\n",
    "# liczba osób chorych z wynikiem pozytywnym\n",
    "cp  =[]\n",
    "[cp.append(row) for row in p if row[0]==1 and row[1]==1]\n",
    "\n",
    "\n",
    "# liczba wszystkich osob z wynikiem pozytywnym\n",
    "ap = []\n",
    "[ap.append(row) for row in p if row[1]==1]\n",
    "\n",
    "len(cp)/len(ap)"
   ]
  },
  {
   "cell_type": "code",
   "execution_count": 79,
   "id": "cc6ecfb8",
   "metadata": {},
   "outputs": [
    {
     "data": {
      "text/plain": [
       "0.0900455432661028"
      ]
     },
     "execution_count": 79,
     "metadata": {},
     "output_type": "execute_result"
    }
   ],
   "source": [
    "def sim(count, ch, sk):\n",
    "    p = np.zeros([700_000,2])\n",
    "    # 700 chorych i oznaczonych jako chorzy\n",
    "    p[0:ch-1,0] = 1\n",
    "    p[0:ch-1,1] = 1\n",
    "    # 1% chorych jako zdrowi \n",
    "    p[0:int(ch*0.01),1] = 0\n",
    "\n",
    "    # 1% zdrowych jako chorzy\n",
    "    prc =  int(ch + (count-ch) *(1-sk))\n",
    "    p[ch:prc,1] = 1\n",
    "\n",
    "    # liczba osób chorych z wynikiem pozytywnym\n",
    "    cp  =[]\n",
    "    [cp.append(row) for row in p if row[0]==1 and row[1]==1]\n",
    "\n",
    "\n",
    "    # liczba wszystkich osob z wynikiem pozytywnym\n",
    "    ap = []\n",
    "    [ap.append(row) for row in p if row[1]==1]\n",
    "\n",
    "    return len(cp)/len(ap)\n",
    "\n",
    "sim(700_000, 700, 0.99)"
   ]
  },
  {
   "cell_type": "markdown",
   "id": "46aa035b",
   "metadata": {},
   "source": [
    "#### B)\n",
    "\n",
    "Napisać funkcję, która zwróci wynik obliczony ze wzoru Bayesa. Zmierz i porównaj czas obliczeń w zad. A i zad. B\n",
    "\n"
   ]
  },
  {
   "cell_type": "raw",
   "id": "d77bcf76",
   "metadata": {},
   "source": [
    "             poz 0.99   to\n",
    "z    0.001   neg 0.01\n",
    "1 \n",
    "ch   0,999   poz 0.01   to\n",
    "             neg 0.99\n",
    "    \n",
    "0.001 * 0.99\n",
    "----------------------------\n",
    "0.001 * 0.99 + 0.999 * 0.01"
   ]
  },
  {
   "cell_type": "code",
   "execution_count": 82,
   "id": "120e7f66",
   "metadata": {},
   "outputs": [
    {
     "data": {
      "text/plain": [
       "0.09016393442622951"
      ]
     },
     "execution_count": 82,
     "metadata": {},
     "output_type": "execute_result"
    }
   ],
   "source": [
    "(0.001 * 0.99) / (0.001 * 0.99 + 0.999 * 0.01)"
   ]
  },
  {
   "cell_type": "markdown",
   "id": "2850f724",
   "metadata": {},
   "source": [
    "#### C)\n",
    "\n",
    "Wyświetl wykres, gdzie na osi X znajduje się _czułość testu_ a na osi Y znajduje się _prawdopodobieństwo, że osoba z pozytywnym wynikiem jest chora_."
   ]
  },
  {
   "cell_type": "code",
   "execution_count": 81,
   "id": "7359c283",
   "metadata": {},
   "outputs": [
    {
     "ename": "SyntaxError",
     "evalue": "invalid syntax. Maybe you meant '==' or ':=' instead of '='? (1213966611.py, line 4)",
     "output_type": "error",
     "traceback": [
      "\u001b[1;36m  Input \u001b[1;32mIn [81]\u001b[1;36m\u001b[0m\n\u001b[1;33m    [row = sim(700_000, 700, row) for row in y]\u001b[0m\n\u001b[1;37m     ^\u001b[0m\n\u001b[1;31mSyntaxError\u001b[0m\u001b[1;31m:\u001b[0m invalid syntax. Maybe you meant '==' or ':=' instead of '='?\n"
     ]
    }
   ],
   "source": [
    "# Oblicz jakie jest prawdopodobienstwo ze osoba z pozytywnym wynikiem testu jest faktycznie chora \n",
    "x = np.arange(90,100,0.1)\n",
    "y = x\n"
   ]
  },
  {
   "cell_type": "markdown",
   "id": "2b0253f8",
   "metadata": {},
   "source": [
    "### Zadanie 3\n",
    "\n",
    "Sprawdź (symulacją) jak często trafia się \"ręka\" zawierająca $\\ge 8$ kart w jednym kolorze z 13 kart. Czyli losujemy 13 kart z 52 (wiec \"ręki\" jak w brydzu) tak długo, aż w jakimś kolorze dostaniemy $\\ge 8$ kart. Przeprowadź 1000 takich prob i oblicz średnią. Dodatkowo wypisz jedną (np. ostatnią) taką wylosowaną rękę."
   ]
  },
  {
   "cell_type": "code",
   "execution_count": null,
   "id": "622ec278",
   "metadata": {},
   "outputs": [],
   "source": [
    "# << UZUPEŁNIJ >>"
   ]
  }
 ],
 "metadata": {
  "author": {
   "email": "robert.susik@p.lodz.pl",
   "name": "Robert Susik"
  },
  "kernelspec": {
   "display_name": "Python 3 (ipykernel)",
   "language": "python",
   "name": "python3"
  },
  "language_info": {
   "codemirror_mode": {
    "name": "ipython",
    "version": 3
   },
   "file_extension": ".py",
   "mimetype": "text/x-python",
   "name": "python",
   "nbconvert_exporter": "python",
   "pygments_lexer": "ipython3",
   "version": "3.10.2"
  },
  "toc": {
   "base_numbering": 1,
   "nav_menu": {},
   "number_sections": true,
   "sideBar": true,
   "skip_h1_title": false,
   "title_cell": "Table of Contents",
   "title_sidebar": "Contents",
   "toc_cell": false,
   "toc_position": {},
   "toc_section_display": true,
   "toc_window_display": false
  }
 },
 "nbformat": 4,
 "nbformat_minor": 5
}
