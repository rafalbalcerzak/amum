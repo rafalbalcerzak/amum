{
 "cells": [
  {
   "cell_type": "markdown",
   "id": "59b5dc28",
   "metadata": {},
   "source": [
    "# Algorytmika i matematyka uczenia maszynowego \n",
    "## Laboratorium 3\n",
    "\n",
    "Do wykonania laboratorium należy skorzystać z bibliotek:\n",
    "- [numpy](https://numpy.org/)\n",
    "- [matplotlib](https://matplotlib.org/)\n",
    "\n",
    "### Zadanie 1 - zakupy\n",
    "\n",
    "W sklepie dostępne są następujące produkty:\n",
    "\n",
    "| Produkt | Cena (netto) | Podatek |\n",
    "| --- | --- | --- |\n",
    "| Chleb | 3 | 5% |\n",
    "| Butelka wody (1l) | 2 | 8% |\n",
    "| Pomidor 1szt. | 2 | 5% |\n",
    "| Olej (1l) | 6 | 5% |\n",
    "| Szafran | 1.5 | 8% |\n",
    "| Krewetki (opakowanie) | 20 | 23% |\n",
    "| Lód (opakowanie) | 5 | 23% |\n",
    "\n",
    "\n",
    "#### Zadanie 1 A\n",
    "\n",
    "- Zapisz nazwy produktów w tablicy `N`.\n",
    "- Zapisz ceny produktów w tablicy `C`.\n",
    "- Zapisz podatek w tablicy `P`.\n",
    "\n",
    "*(tablicy jedno wymiarowej czyli wektorze)*\n",
    "\n"
   ]
  },
  {
   "cell_type": "code",
   "execution_count": 1,
   "id": "adf73c67",
   "metadata": {},
   "outputs": [],
   "source": [
    "import numpy as np"
   ]
  },
  {
   "cell_type": "code",
   "execution_count": 2,
   "id": "a78de9c7",
   "metadata": {},
   "outputs": [],
   "source": [
    "N = np.array(['Chleb','Butelka wody 1l','Pomidor 1szt.','Olej (1l)','Szafran','Krewtki(opakowanie)','Lód(opakowanie)'])\n",
    "C = np.array([3.,2.,2.,6.,1.5,20.,5.])\n",
    "P = np.array([5,8,5,5,8,23,23])"
   ]
  },
  {
   "cell_type": "markdown",
   "id": "ca4e7af2",
   "metadata": {},
   "source": [
    "#### Zadanie 1 B\n",
    "\n",
    "Klient kupił:\n",
    "\n",
    "- 2 szt. chleba, \n",
    "- 6 butelek wody,\n",
    "- 1 opakowanie krewetek.\n",
    "\n",
    "Zapisz zakupy klienta w wektorze `Z` (zachowaj wymiarowość)."
   ]
  },
  {
   "cell_type": "code",
   "execution_count": 3,
   "id": "81391828",
   "metadata": {},
   "outputs": [],
   "source": [
    "Z = np.array([2,6,0,0,0,1,0])"
   ]
  },
  {
   "cell_type": "markdown",
   "id": "4d64ce4b",
   "metadata": {},
   "source": [
    "\n",
    "#### Zadanie 1C\n",
    "\n",
    "Oblicz sumę **netto** jaką klient musi zapłacić bez używania:\n",
    "- operatora `+`, \n",
    "- funkcji/metody `sum`\n",
    "- operatego mnożenia skalarnego (`*`, `__mul__`).\n",
    "\n",
    "_Podpowiedź: jeden z wektorów trzeba transponować_"
   ]
  },
  {
   "cell_type": "code",
   "execution_count": 4,
   "id": "bb0b4e4e",
   "metadata": {},
   "outputs": [
    {
     "data": {
      "text/plain": [
       "38.0"
      ]
     },
     "execution_count": 4,
     "metadata": {},
     "output_type": "execute_result"
    }
   ],
   "source": [
    "Z @ C.T"
   ]
  },
  {
   "cell_type": "markdown",
   "id": "fe9e7805",
   "metadata": {},
   "source": [
    "#### Zadanie 1D\n",
    "\n",
    "Oblicz wartość **brutto** jaką klient musi zapłacić w sklepie. W tym zadaniu możesz użyć operatora `*`.\n",
    "\n",
    "Dodatkowo, wyświetl rachunek w postaci tabeli zawierającą kolumny: \n",
    "- nazwa produktu,\n",
    "- cena netto, \n",
    "- liczba sztuk, \n",
    "- cena netto danej pozycji (cena netto x liczba sztuk), \n",
    "- podatek (procentowo np. `5%`),\n",
    "- cena brutto danej pozycji. \n",
    "\n",
    "Na końcu tabeli ma się wyświetlić suma brutto do zapłaty."
   ]
  },
  {
   "cell_type": "code",
   "execution_count": 5,
   "id": "f11e2e28",
   "metadata": {},
   "outputs": [],
   "source": [
    "B = C*(1+(P/100))"
   ]
  },
  {
   "cell_type": "code",
   "execution_count": 6,
   "id": "7d471f66",
   "metadata": {},
   "outputs": [],
   "source": [
    "brutto = Z @ B.T"
   ]
  },
  {
   "cell_type": "code",
   "execution_count": 7,
   "id": "d70ceec7",
   "metadata": {},
   "outputs": [],
   "source": [
    "paragon = np.vstack((N,C,Z,C*Z,P,B*Z))\n",
    "paragon = paragon.T"
   ]
  },
  {
   "cell_type": "code",
   "execution_count": 8,
   "id": "c2faf7c1",
   "metadata": {},
   "outputs": [],
   "source": [
    "B = C*(1+(P/100))"
   ]
  },
  {
   "cell_type": "code",
   "execution_count": 9,
   "id": "8b4ad529",
   "metadata": {},
   "outputs": [],
   "source": [
    "paragon1 = np.array([row for row in paragon if row[2]!=str(0)] )"
   ]
  },
  {
   "cell_type": "code",
   "execution_count": 10,
   "id": "f2a3b5d8",
   "metadata": {},
   "outputs": [
    {
     "name": "stdout",
     "output_type": "stream",
     "text": [
      "Nazwa               |Cena netto     |Liczba sztuk   |Cena netto poz |Podatek        |Cena brutto poz\n",
      "Chleb               |3.0            |2              |6.0            |5              |6.30           \n",
      "Butelka wody 1l     |2.0            |6              |12.0           |8              |12.9           \n",
      "Krewtki(opakowanie) |20.0           |1              |20.0           |23             |24.6           \n",
      "Suma:                                                                                43.86\n"
     ]
    }
   ],
   "source": [
    "A = ('Nazwa','Cena netto','Liczba sztuk','Cena netto poz','Podatek','Cena brutto poz')\n",
    "print(f'{A[0]:20}|{A[1]:15}|{A[2]:15}|{A[3]:15}|{A[4]:15}|{A[5]:15}')\n",
    "for row in paragon1:\n",
    "    print(f'{row[0]:20}|{row[1]:15}|{row[2]:15}|{row[3]:15}|{row[4]:15}|{row[5]:15.4}')\n",
    "print(f'Suma:{brutto:85}')"
   ]
  },
  {
   "cell_type": "markdown",
   "id": "67b1b17f",
   "metadata": {
    "heading_collapsed": true
   },
   "source": [
    "### Zadanie 2\n",
    "\n",
    "Zmodyfikuj kod z zadania pierwszego w ten sposób, że dane o produktach będą wczytywane z pliku `produkty.csv` a dane do rachunku (liczba zakupionych produktów) z pliku `rachunek.csv`.\n",
    "\n",
    "Utwórz przykładowe dane (inne niż w zadaniu 1)."
   ]
  },
  {
   "cell_type": "code",
   "execution_count": 11,
   "id": "68c4dded",
   "metadata": {},
   "outputs": [],
   "source": [
    "produkty = np.genfromtxt('produkty.csv', delimiter=';', dtype=str)\n"
   ]
  },
  {
   "cell_type": "code",
   "execution_count": 12,
   "id": "1082f767",
   "metadata": {},
   "outputs": [],
   "source": [
    "rachunek = np.genfromtxt('rachunek.csv', delimiter=';')\n"
   ]
  },
  {
   "cell_type": "code",
   "execution_count": 13,
   "id": "1bc27190",
   "metadata": {},
   "outputs": [],
   "source": [
    "N = np.array(produkty[:,0])\n",
    "C = np.array(produkty[:,1])\n",
    "P = np.array(produkty[:,2])\n",
    "Z = np.array(rachunek)\n",
    "\n",
    "C = C.astype('int32')\n",
    "P = P.astype('int32')\n",
    "Z = Z.astype('int32')\n",
    "\n",
    "B = C*(1+(P/100))\n",
    "brutto = Z @ B.T\n",
    "\n",
    "paragon = np.vstack((N,C,Z,C*Z,P,B*Z))\n",
    "paragon = paragon.T\n",
    "\n",
    "B = C*(1+(P/100))\n",
    "paragon1 = np.array([row for row in paragon if row[2]!=str(0)] )"
   ]
  },
  {
   "cell_type": "code",
   "execution_count": 14,
   "id": "6c936c65",
   "metadata": {},
   "outputs": [
    {
     "name": "stdout",
     "output_type": "stream",
     "text": [
      "Nazwa               |Cena netto     |Liczba sztuk   |Cena netto poz |Podatek        |Cena brutto poz\n",
      "bułka 1szt          |1              |2              |2              |5              |2.1            \n",
      "Sprite (2,5)        |6              |3              |18             |23             |22.14          \n",
      "Kurczak 1kg         |12             |1              |12             |23             |14.76          \n",
      "Pieprz              |2              |4              |8              |5              |8.4            \n",
      "Suma:                                                                                47.4\n"
     ]
    }
   ],
   "source": [
    "A = ('Nazwa','Cena netto','Liczba sztuk','Cena netto poz','Podatek','Cena brutto poz')\n",
    "print(f'{A[0]:20}|{A[1]:15}|{A[2]:15}|{A[3]:15}|{A[4]:15}|{A[5]:15}')\n",
    "for row in paragon1:\n",
    "    print(f'{row[0]:20}|{row[1]:15}|{row[2]:15}|{row[3]:15}|{row[4]:15}|{row[5]:15.5}')\n",
    "print(f'Suma:{brutto:84}')"
   ]
  },
  {
   "cell_type": "markdown",
   "id": "20d45341",
   "metadata": {},
   "source": [
    "### Zadanie 3\n",
    "\n",
    "#### Zadanie 3 A\n",
    "\n",
    "Utwórz dwa wektory dwuelementowe `A` i `B` (dowolne wartości dodatnie różne od zera).\n",
    "\n",
    "Następnie wykonaj sumowanie elementów obu wektorów i zapisz w zmiennej `C`.\n"
   ]
  },
  {
   "cell_type": "code",
   "execution_count": 15,
   "id": "741e4a50",
   "metadata": {},
   "outputs": [
    {
     "data": {
      "text/plain": [
       "[6, 3]"
      ]
     },
     "execution_count": 15,
     "metadata": {},
     "output_type": "execute_result"
    }
   ],
   "source": [
    "A = [1,2]\n",
    "B = [5,1]\n",
    "C = [A[0]+B[0],A[1]+B[1]]\n",
    "C"
   ]
  },
  {
   "cell_type": "markdown",
   "id": "6825bb23",
   "metadata": {},
   "source": [
    "#### Zadanie 3 B\n",
    "\n",
    "Wyświetl na wykresie:\n",
    "- _wektor wodzący_ (strzałkę) z punktu `(0, 0)` do punktów `A` oraz `B` (w kolorze <font color='green'>zielonym</font>),\n",
    "- _wektor wodzący_ (strzałkę) z punktu `(0, 0)` do punktu `C` (w kolorze <font color='red'>czerwonym</font>)\n",
    "- wektor wodzący z punktu `A` do punktu `C` (w kolorze <font color='blue'>niebieskim</font>),\n",
    "- wektor wodzący z punktu `B` do punktu `C` (w kolorze <font color='blue'>niebieskim</font>)."
   ]
  },
  {
   "cell_type": "code",
   "execution_count": 16,
   "id": "716313db",
   "metadata": {},
   "outputs": [
    {
     "data": {
      "text/plain": [
       "<matplotlib.patches.FancyArrow at 0x24f14e1ad60>"
      ]
     },
     "execution_count": 16,
     "metadata": {},
     "output_type": "execute_result"
    },
    {
     "data": {
      "image/png": "[encoded data removed]",
      "text/plain": [
       "<Figure size 432x288 with 1 Axes>"
      ]
     },
     "metadata": {
      "needs_background": "light"
     },
     "output_type": "display_data"
    }
   ],
   "source": [
    "import matplotlib.pyplot as plt\n",
    "\n",
    "plt.arrow(0,0,A[0],A[1], color='g')\n",
    "plt.arrow(0,0,B[0],B[1], color='g')\n",
    "\n",
    "plt.arrow(0,0,C[0],C[1], color='r')\n",
    "\n",
    "plt.arrow(A[0],A[1],B[0],B[1], color='b')\n",
    "plt.arrow(B[0],B[1],A[0],A[1], color='b')"
   ]
  },
  {
   "cell_type": "markdown",
   "id": "98e6ec6a",
   "metadata": {},
   "source": [
    "### Zadanie 4\n",
    "\n",
    "Wygeneruj losową macierz 8×8 wg rozkładu Gaussa (średnia: 100, odch. std = 15),\n",
    "wartości zaokrąglij do liczb całkowitych (int). Macierz ta reprezentuje pewien obraz (w skali szarości).\n",
    "\n",
    "Następnie zastosuj filtr uśredniający o masce 3×3 dla elementów wewnętrznych (tj. poza brzegiem) tej macierzy i wypisz wynik. W filtrze uśredniającym zastosuj zaokrąglanie w dół do liczby całkowitej.\n",
    "\n",
    "_Podpowiedź: generacja danych: np.random.normal, np.round._"
   ]
  },
  {
   "cell_type": "code",
   "execution_count": 17,
   "id": "9616e1f3",
   "metadata": {},
   "outputs": [],
   "source": [
    "arr = np.random.normal(100, 15, (8,8))\n",
    "arr = arr.astype('int32')"
   ]
  },
  {
   "cell_type": "code",
   "execution_count": 18,
   "id": "0a155f15",
   "metadata": {},
   "outputs": [
    {
     "data": {
      "text/plain": [
       "array([[122,  88,  73, 109,  95, 107,  94,  99],\n",
       "       [104,  98,  91, 103, 107,  87,  93, 128],\n",
       "       [123, 113,  53, 121,  96,  98,  83,  88],\n",
       "       [107,  81,  97, 125, 120, 114,  90,  98],\n",
       "       [ 76, 116,  81,  86, 120,  89, 121, 134],\n",
       "       [ 97,  90, 107,  55, 128, 122, 109, 123],\n",
       "       [ 83,  95, 102, 104, 105, 133, 137,  76],\n",
       "       [ 94, 103, 106, 103,  97,  98,  92,  40]])"
      ]
     },
     "execution_count": 18,
     "metadata": {},
     "output_type": "execute_result"
    }
   ],
   "source": [
    "arr"
   ]
  },
  {
   "cell_type": "code",
   "execution_count": 21,
   "id": "78538b98",
   "metadata": {},
   "outputs": [],
   "source": [
    "filtered = np.zeros((len(arr)-2,len(arr)-2))\n",
    "\n",
    "for i in range(len(arr)-2):\n",
    "    for j in range(len(arr)-2):\n",
    "            filtered[i][j]=np.floor(np.sum(arr[i:i+3,j:j+3])/9)\n",
    "            "
   ]
  },
  {
   "cell_type": "code",
   "execution_count": 22,
   "id": "346600ba",
   "metadata": {},
   "outputs": [
    {
     "data": {
      "text/plain": [
       "array([[ 96.,  94.,  94., 102.,  95.,  97.],\n",
       "       [ 96.,  98., 101., 107.,  98.,  97.],\n",
       "       [ 94.,  97.,  99., 107., 103., 101.],\n",
       "       [ 94.,  93., 102., 106., 112., 111.],\n",
       "       [ 94.,  92.,  98., 104., 118., 116.],\n",
       "       [ 97.,  96., 100., 105., 113., 103.]])"
      ]
     },
     "execution_count": 22,
     "metadata": {},
     "output_type": "execute_result"
    }
   ],
   "source": [
    "filtered"
   ]
  },
  {
   "cell_type": "code",
   "execution_count": null,
   "id": "7339bd6b",
   "metadata": {},
   "outputs": [],
   "source": []
  }
 ],
 "metadata": {
  "author": {
   "email": "robert.susik@p.lodz.pl",
   "name": "Robert Susik"
  },
  "kernelspec": {
   "display_name": "Python 3 (ipykernel)",
   "language": "python",
   "name": "python3"
  },
  "language_info": {
   "codemirror_mode": {
    "name": "ipython",
    "version": 3
   },
   "file_extension": ".py",
   "mimetype": "text/x-python",
   "name": "python",
   "nbconvert_exporter": "python",
   "pygments_lexer": "ipython3",
   "version": "3.9.0"
  },
  "toc": {
   "base_numbering": 1,
   "nav_menu": {},
   "number_sections": true,
   "sideBar": true,
   "skip_h1_title": false,
   "title_cell": "Table of Contents",
   "title_sidebar": "Contents",
   "toc_cell": false,
   "toc_position": {},
   "toc_section_display": true,
   "toc_window_display": false
  }
 },
 "nbformat": 4,
 "nbformat_minor": 5
}
